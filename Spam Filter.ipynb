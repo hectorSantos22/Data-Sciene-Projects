{
 "cells": [
  {
   "cell_type": "markdown",
   "metadata": {},
   "source": [
    "# Building a Spam Filter with Naive Bayes Algorithm"
   ]
  },
  {
   "cell_type": "markdown",
   "metadata": {},
   "source": [
    "**Summary:** this project consists of building a spam filter for SMS messages with the multinominal Naïve Bayes algorithm as its core. In order to train the algorithm, we'll use a dataset of 5,572 SMS messages that are already classified by humans.  The data set is available [here](https://archive.ics.uci.edu/ml/machine-learning-databases/00228/smsspamcollection.zip)\n",
    "\n",
    "**Goal**: write a program that classifies new messages with an accuracy of at least 80% "
   ]
  },
  {
   "cell_type": "code",
   "execution_count": null,
   "metadata": {},
   "outputs": [],
   "source": [
    "import os\n",
    "os.getcwd()\n",
    "os.chdir(\"C:\\\\Users\\\\hecto\\\\OneDrive\\\\Desktop\\\\Data Science\\\\Spam Filter Project\")"
   ]
  },
  {
   "cell_type": "code",
   "execution_count": null,
   "metadata": {},
   "outputs": [],
   "source": [
    "#Importing libraries\n",
    "import pandas as pd\n",
    "import re\n",
    "import warnings\n",
    "from IPython import display\n",
    "import matplotlib.pyplot as plt\n",
    "import seaborn as sns"
   ]
  },
  {
   "cell_type": "markdown",
   "metadata": {},
   "source": [
    "## Data Overview"
   ]
  },
  {
   "cell_type": "code",
   "execution_count": null,
   "metadata": {},
   "outputs": [],
   "source": [
    "# Importing the Data\n",
    "data = pd.read_csv(\"DATA\", sep = \"\\t\", header = None, names=[\"Label\",\"SMS\"])\n",
    "print(data.info())\n",
    "data.head(3)"
   ]
  },
  {
   "cell_type": "markdown",
   "metadata": {},
   "source": [
    "The data has two columns: Label and SMS. The SMS column contains the messages, while the Label column says the classification that humans gave to an especific  message"
   ]
  },
  {
   "cell_type": "code",
   "execution_count": null,
   "metadata": {},
   "outputs": [],
   "source": [
    "#Plotting null values\n",
    "sns.heatmap(data.isnull())"
   ]
  },
  {
   "cell_type": "markdown",
   "metadata": {},
   "source": [
    "There are no NULL values"
   ]
  },
  {
   "cell_type": "markdown",
   "metadata": {},
   "source": [
    "## Training and testing sub-set"
   ]
  },
  {
   "cell_type": "markdown",
   "metadata": {},
   "source": [
    "In order to create the algorithm, we need a training and testing data subsets derived from the original data:\n",
    "\n",
    "- The training subset,  which consist of 80% of the orgininal data,is  used to teach the algorithm how to classify the messages.\n",
    "\n",
    "- The testing subset, which consist of 20% of the orgininal data, is used to determine how accurate the model is."
   ]
  },
  {
   "cell_type": "code",
   "execution_count": null,
   "metadata": {},
   "outputs": [],
   "source": [
    "#Randomizing the data\n",
    "randomized_set = data.sample(frac=1, random_state=1).reset_index()\n",
    "randomized_set = randomized_set[[\"Label\",\"SMS\"]]"
   ]
  },
  {
   "cell_type": "code",
   "execution_count": null,
   "metadata": {},
   "outputs": [],
   "source": [
    "#Creating the sub sets\n",
    "training_set = randomized_set.iloc[0:4458]\n",
    "test_set = randomized_set.iloc[4458:]"
   ]
  },
  {
   "cell_type": "code",
   "execution_count": null,
   "metadata": {},
   "outputs": [],
   "source": [
    "#Ploting the spam and non messages distribution for all data sets\n",
    "\n",
    "fig = plt.figure()\n",
    "\n",
    "ax1 =fig.add_axes([1,2,0.7,0.7])\n",
    "ax1.bar(data[\"Label\"].value_counts().index,data[\"Label\"].value_counts(),width=0.5)\n",
    "ax1.set_title(\"Number of Spam and Non Spam SMS for the Original Data\")\n",
    "\n",
    "ax2 = fig.add_axes([1,1,0.7,0.7])\n",
    "ax2.bar(training_set[\"Label\"].value_counts().index,training_set[\"Label\"].value_counts(),width=0.5)\n",
    "ax2.set_title(\"Number of Spam and Non Spam SMS for the Training Data\")\n",
    "\n",
    "ax3 = fig.add_axes([2,2,0.7,0.7])\n",
    "ax3.bar(test_set[\"Label\"].value_counts().index,test_set[\"Label\"].value_counts(),width=0.5)\n",
    "ax3.set_title(\"Number of Spam and Non Spam SMS for the Test Data\")\n",
    "\n",
    "plt.show()"
   ]
  },
  {
   "cell_type": "markdown",
   "metadata": {},
   "source": [
    "All data set have a similar distribution of spam and non spam messages"
   ]
  },
  {
   "cell_type": "code",
   "execution_count": null,
   "metadata": {},
   "outputs": [],
   "source": [
    "warnings.filterwarnings(\"ignore\")"
   ]
  },
  {
   "cell_type": "markdown",
   "metadata": {},
   "source": [
    "## The Final Training Set"
   ]
  },
  {
   "cell_type": "markdown",
   "metadata": {},
   "source": [
    "We're now going to create a vocabulary and use it to create the final training set, which counts how many times each word is used for each message."
   ]
  },
  {
   "cell_type": "code",
   "execution_count": null,
   "metadata": {},
   "outputs": [],
   "source": [
    "#Removing the punctuation and bringing all the words to lower case in the training set\n",
    "\n",
    "training_set[\"SMS\"] = training_set[\"SMS\"].str.replace(\"\\W\",\" \").str.lower() # /W = Negative Word \\W Any character except word characters\n",
    "training_set[\"SMS\"] = training_set[\"SMS\"].str.split()\n",
    "training_set.head(3)"
   ]
  },
  {
   "cell_type": "code",
   "execution_count": null,
   "metadata": {},
   "outputs": [],
   "source": [
    "#Creating a list with all the unique words in the training set SMS column\n",
    "\n",
    "vocabulary = []\n",
    "\n",
    "for message in training_set[\"SMS\"]:\n",
    "    for word in message:\n",
    "        if word in vocabulary:\n",
    "            pass\n",
    "        else:\n",
    "            vocabulary.append(word)\n",
    "            \n",
    "print(\"There are \" + str(len(vocabulary)) + \" unique words in the training set SMS column\")\n",
    "vocabulary[0:5]"
   ]
  },
  {
   "cell_type": "code",
   "execution_count": null,
   "metadata": {},
   "outputs": [],
   "source": [
    "#Creating a dictionary \n",
    "word_counts_per_sms = {unique_word:[0] * len(training_set)for unique_word in vocabulary}\n",
    "\n",
    "for index, message in enumerate(training_set[\"SMS\"]):\n",
    "    for word in message:\n",
    "        word_counts_per_sms[word][index] += 1\n",
    "        \n",
    "word_counts_per_sms = pd.DataFrame(word_counts_per_sms)\n",
    "training_set_clean = pd.concat([training_set,word_counts_per_sms],axis=1)\n",
    "training_set_clean.head(3)"
   ]
  },
  {
   "cell_type": "markdown",
   "metadata": {},
   "source": [
    "## Naive Bayes classifier"
   ]
  },
  {
   "cell_type": "markdown",
   "metadata": {},
   "source": [
    "The Naive Bayes algorithm is a “probabilistic classifier” based on the Bayes' theorem, which describes the probability of an event based on prior knowledge of conditions that might be related to that event. We'll need the following probability values of the two equations below to be able to classify new messages."
   ]
  },
  {
   "attachments": {
    "1.jpg": {
     "image/jpeg": "[encoded data removed]"
    }
   },
   "cell_type": "markdown",
   "metadata": {},
   "source": [
    "![1.jpg](attachment:1.jpg)"
   ]
  },
  {
   "attachments": {
    "2.jpg": {
     "image/jpeg": "[encoded data removed]"
    }
   },
   "cell_type": "markdown",
   "metadata": {},
   "source": [
    "![2.jpg](attachment:2.jpg)"
   ]
  },
  {
   "cell_type": "markdown",
   "metadata": {},
   "source": [
    "### Constants"
   ]
  },
  {
   "cell_type": "markdown",
   "metadata": {},
   "source": [
    "* **NSpam** is equal to the number of words in all the spam messages — it's not equal to the number of spam messages, and it's not equal to the total number of unique words in spam messages.\n",
    "<br/><br/>\n",
    "\n",
    "* **NHam** is equal to the number of words in all the non-spam messages — it's not equal to the number of non-spam messages, and it's not equal to the total number of unique words in non-spam messages.\n",
    "<br/><br/>\n",
    "* **Nwi** = the number of times a word repeats it self.\n",
    "<br/><br/>\n",
    "* **Nvocabulary** = number of times an especific word repeats itself.\n",
    "<br/><br/>\n",
    "* **P(Spam)** = probability of a SMS being a spam in the training (tr) data set.\n",
    "<br/><br/>\n",
    "* **P(Ham)** = probability of a SMS not beign a spam in the training (tr) data set.\n",
    "<br/><br/>\n",
    "* We'll also use Laplace smoothing and set **α=1**."
   ]
  },
  {
   "cell_type": "code",
   "execution_count": null,
   "metadata": {},
   "outputs": [],
   "source": [
    "#Isolating the spam and the ham messages in the training set into two different DataFrames\n",
    "tr_set_spam = training_set_clean[training_set_clean[\"Label\"] ==\"spam\"]\n",
    "tr_set_ham = training_set_clean[training_set_clean[\"Label\"] ==\"ham\"]\n",
    "\n",
    "tr_spam_count = len(tr_set_spam)\n",
    "tr_ham_count = len(tr_set_ham)"
   ]
  },
  {
   "cell_type": "code",
   "execution_count": null,
   "metadata": {},
   "outputs": [],
   "source": [
    "#Calculating the probability of a SMS being a spam or not\n",
    "tr_total_count = tr_spam_count + tr_ham_count\n",
    "tr_spam_p = tr_spam_count / tr_total_count\n",
    "tr_ham_p = tr_ham_count / tr_total_count\n",
    "\n",
    "#Isolation spam and non spam messages \n",
    "tr_spam_messages = training_set_clean[\"SMS\"][training_set_clean[\"Label\"] == \"spam\"]\n",
    "tr_ham_messages = training_set_clean[\"SMS\"][training_set_clean[\"Label\"] == \"ham\"]\n",
    "\n",
    "#Counting the number of words for spam and non spam messages and the Vocabulary\n",
    "\n",
    "n_spam = 0\n",
    "for sms in tr_spam_messages:\n",
    "    n_spam += len(sms)\n",
    "\n",
    "n_ham = 0 \n",
    "for sms in tr_ham_messages:\n",
    "    n_ham += len(sms)\n",
    "    \n",
    "n_vocabulary = len(vocabulary)\n",
    "\n",
    "#Alpha\n",
    "\n",
    "alpha = 1"
   ]
  },
  {
   "cell_type": "markdown",
   "metadata": {},
   "source": [
    "### Calculating Parameters"
   ]
  },
  {
   "cell_type": "code",
   "execution_count": null,
   "metadata": {},
   "outputs": [],
   "source": [
    "#creating a dictionary with each of the vocabularys word with a 0 as their value\n",
    "parameters_spam = {word:0 for word in vocabulary}\n",
    "parameters_ham = {word:0 for word in vocabulary}\n",
    "\n",
    "\n",
    "#Calculate parameters\n",
    "for word in vocabulary:\n",
    "    n_word_given_spam = tr_set_spam[word].sum()\n",
    "    p_word_given_spam = (n_word_given_spam + alpha) / (n_spam + alpha*n_vocabulary)\n",
    "    parameters_spam[word] = p_word_given_spam\n",
    "    \n",
    "    n_word_given_ham = tr_set_ham[word].sum()\n",
    "    p_word_given_ham = (n_word_given_ham + alpha) /  (n_ham + alpha*n_vocabulary)\n",
    "    parameters_ham[word] = p_word_given_ham\n",
    "    \n",
    "parameters_spam"
   ]
  },
  {
   "cell_type": "markdown",
   "metadata": {},
   "source": [
    "###  Classifying A New Message"
   ]
  },
  {
   "cell_type": "markdown",
   "metadata": {},
   "source": [
    "Now that we have all our parameters calculated, we can start creating the spam filter. The spam filter can be understood as a function that:\n",
    "\n",
    "- Takes in as input a new message (w1, w2, ..., wn).\n",
    "- Calculates P(Spam|w1, w2, ..., wn) and P(Ham|w1, w2, ..., wn).\n",
    "- Compares the values of P(Spam|w1, w2, ..., wn) and P(Ham|w1, w2, ..., wn), and:\n",
    "- If P(Ham|w1, w2, ..., wn) > P(Spam|w1, w2, ..., wn), then the message is classified as ham.\n",
    "- If P(Ham|w1, w2, ..., wn) < P(Spam|w1, w2, ..., wn), then the message is classified as spam.\n",
    "- If P(Ham|w1, w2, ..., wn) = P(Spam|w1, w2, ..., wn), then the algorithm may request human help."
   ]
  },
  {
   "cell_type": "code",
   "execution_count": null,
   "metadata": {},
   "outputs": [],
   "source": [
    "def classify(message):\n",
    "    \n",
    "    message = re.sub('\\W', ' ', message)\n",
    "    message = message.lower().split()\n",
    "    \n",
    "    p_spam_given_message = tr_spam_p\n",
    "    p_ham_given_message = tr_ham_p\n",
    "\n",
    "    for word in message:\n",
    "        if word in parameters_spam:\n",
    "            p_spam_given_message *= parameters_spam[word]\n",
    "            \n",
    "        if word in parameters_ham:\n",
    "            p_ham_given_message *= parameters_ham[word]\n",
    "   \n",
    "    if p_ham_given_message > p_spam_given_message:\n",
    "        return 'ham'\n",
    "    elif p_ham_given_message < p_spam_given_message:\n",
    "        return 'spam'\n",
    "    else:\n",
    "        return 'Equal proabilities, have a human classify this!'"
   ]
  },
  {
   "cell_type": "code",
   "execution_count": null,
   "metadata": {
    "scrolled": true
   },
   "outputs": [],
   "source": [
    "classify('WINNER!! This is the secret code to unlock the money: C3421.')"
   ]
  },
  {
   "cell_type": "code",
   "execution_count": null,
   "metadata": {},
   "outputs": [],
   "source": [
    "classify(\"Hola comoe estas?\")"
   ]
  },
  {
   "cell_type": "code",
   "execution_count": null,
   "metadata": {},
   "outputs": [],
   "source": [
    "classify(\"Sounds good, Tom, then see u there\")"
   ]
  },
  {
   "cell_type": "markdown",
   "metadata": {},
   "source": [
    "# Measuring the Spam Filter's Accuracy"
   ]
  },
  {
   "cell_type": "code",
   "execution_count": null,
   "metadata": {},
   "outputs": [],
   "source": [
    "# Determining the number and percentage of spam messages in the training and testing set\n",
    "tr_spam = training_set[\"Label\"]==\"spam\"\n",
    "ts_spam = test_set[\"Label\"] == \"spam\"\n",
    "print(\"The training set has \" + str(tr_spam.value_counts()[1]) + \" spam messages out the \" + str(len(training_set))) \n",
    "print(\"The testing set has \" + str(ts_spam.value_counts()[1]) + \" spam messages out of the \" + str(len(test_set)))"
   ]
  },
  {
   "cell_type": "markdown",
   "metadata": {},
   "source": [
    "We  are going to create a new column in our test set."
   ]
  },
  {
   "cell_type": "code",
   "execution_count": null,
   "metadata": {},
   "outputs": [],
   "source": [
    "test_set['predicted'] = test_set['SMS'].apply(classify)\n",
    "test_set.head(3)"
   ]
  },
  {
   "cell_type": "code",
   "execution_count": null,
   "metadata": {},
   "outputs": [],
   "source": [
    "accuracy_test = (test_set[\"Label\"] == test_set[\"predicted\"]).value_counts()\n",
    "accuracy_test = pd.DataFrame(accuracy_test).rename(columns={0:\"Results\"})\n",
    "accuracy_test.loc[\"Accuracy % \"] = (accuracy_test.iloc[0]/accuracy_test.sum()) * 100 \n",
    "accuracy_test.style.format(\"{:,.0f}\")"
   ]
  },
  {
   "cell_type": "markdown",
   "metadata": {
    "collapsed": true
   },
   "source": [
    "The filter looked at 1,114 messages that it hasn't seen in training, and classified 961 correctly.The algorithm is 86% accurate."
   ]
  }
 ],
 "metadata": {
  "kernelspec": {
   "display_name": "Python 3 (ipykernel)",
   "language": "python",
   "name": "python3"
  },
  "language_info": {
   "codemirror_mode": {
    "name": "ipython",
    "version": 3
   },
   "file_extension": ".py",
   "mimetype": "text/x-python",
   "name": "python",
   "nbconvert_exporter": "python",
   "pygments_lexer": "ipython3",
   "version": "3.9.7"
  },
  "toc": {
   "base_numbering": 1,
   "nav_menu": {},
   "number_sections": true,
   "sideBar": true,
   "skip_h1_title": false,
   "title_cell": "Table of Contents",
   "title_sidebar": "Contents",
   "toc_cell": false,
   "toc_position": {
    "height": "calc(100% - 180px)",
    "left": "10px",
    "top": "150px",
    "width": "341.458px"
   },
   "toc_section_display": true,
   "toc_window_display": true
  },
  "varInspector": {
   "cols": {
    "lenName": 16,
    "lenType": 16,
    "lenVar": 40
   },
   "kernels_config": {
    "python": {
     "delete_cmd_postfix": "",
     "delete_cmd_prefix": "del ",
     "library": "var_list.py",
     "varRefreshCmd": "print(var_dic_list())"
    },
    "r": {
     "delete_cmd_postfix": ") ",
     "delete_cmd_prefix": "rm(",
     "library": "var_list.r",
     "varRefreshCmd": "cat(var_dic_list()) "
    }
   },
   "types_to_exclude": [
    "module",
    "function",
    "builtin_function_or_method",
    "instance",
    "_Feature"
   ],
   "window_display": true
  }
 },
 "nbformat": 4,
 "nbformat_minor": 4
}
