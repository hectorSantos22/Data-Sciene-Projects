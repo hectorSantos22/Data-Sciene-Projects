{
 "cells": [
  {
   "cell_type": "markdown",
   "metadata": {},
   "source": [
    "# Introduction"
   ]
  },
  {
   "cell_type": "markdown",
   "metadata": {},
   "source": [
    "*Author: Hector R. Santos Marte*\n",
    "\n",
    "The SAT is a multiple-choice exam with three sections: reading, writing and math, each of which is worth a maximum of 800 points. The purpose of the SAT is to measure high school student's readiness for college and provide colleges with one common data point that can be used to compare all applicants. A High average SAT scores is usually indicative of a good school.\n",
    "\n",
    "There are currently debates about whether the SAT is a fair and non-discriminatory test. **My objective in this project is to analyze the relationship between different variables and the SAT results.**\n",
    " \n",
    "New York City has a significant immigrant population and is very diverse, so comparing demographic factors such as: race, income, and gender with the SAT scores in NYC could provide me with some useful information. New York City has published high schools average SAT score data, along with additional complementary data sets, of which I will be using the following:\n",
    "\n",
    "1. SAT scores by school - SAT scores for each high school in New York City\n",
    "2. School attendance - Attendance information for each school in New York City\n",
    "3. Class size - Information on class size for each school\n",
    "4. AP test results - Advanced Placement (AP) exam results for each high school (passing an optional AP exam in a particular subject can earn a student college credit in that subject)\n",
    "5. Graduation outcomes - The percentage of students who graduated, and other outcome information\n",
    "6. Demographics - Demographic information for each school\n",
    "7. School survey - Surveys of parents, teachers, and students at each school\n"
   ]
  },
  {
   "cell_type": "code",
   "execution_count": 1,
   "metadata": {
    "collapsed": false,
    "jupyter": {
     "outputs_hidden": false
    }
   },
   "outputs": [
    {
     "data": {
      "text/plain": [
       "'C:\\\\Users\\\\hecto\\\\Desktop\\\\Python Working Directory\\\\SAT Data'"
      ]
     },
     "execution_count": 1,
     "metadata": {},
     "output_type": "execute_result"
    }
   ],
   "source": [
    "import pandas as pd\n",
    "import numpy\n",
    "import re\n",
    "import os\n",
    "import pprint\n",
    "import seaborn as sns\n",
    "import warnings\n",
    "\n",
    "os.chdir('C:\\\\Users\\\\hecto\\\\Desktop\\\\Python Working Directory\\\\SAT Data')\n",
    "os.getcwd()"
   ]
  },
  {
   "cell_type": "code",
   "execution_count": 2,
   "metadata": {},
   "outputs": [],
   "source": [
    "data_files = [\n",
    "    \"ap_2010.csv\",\n",
    "    \"class_size.csv\",\n",
    "    \"demographics.csv\",\n",
    "    \"graduation.csv\",\n",
    "    \"hs_directory.csv\",\n",
    "    \"sat_results.csv\"\n",
    "]\n",
    "\n",
    "data = {}\n",
    "\n",
    "for f in data_files:\n",
    "    d = pd.read_csv(\"C:\\\\Users\\\\hecto\\\\Desktop\\\\Python Working Directory\\\\SAT Data\\\\{0}\".format(f))\n",
    "    data[f.replace(\".csv\", \"\")] = d"
   ]
  },
  {
   "cell_type": "code",
   "execution_count": 3,
   "metadata": {},
   "outputs": [
    {
     "name": "stdout",
     "output_type": "stream",
     "text": [
      "ap_2010\n",
      "\n",
      "\n",
      "Index(['DBN', 'SchoolName', 'AP Test Takers ', 'Total Exams Taken',\n",
      "       'Number of Exams with scores 3 4 or 5'],\n",
      "      dtype='object')\n",
      "\n",
      "\n",
      "class_size\n",
      "\n",
      "\n",
      "Index(['CSD', 'BOROUGH', 'SCHOOL CODE', 'SCHOOL NAME', 'GRADE ',\n",
      "       'PROGRAM TYPE', 'CORE SUBJECT (MS CORE and 9-12 ONLY)',\n",
      "       'CORE COURSE (MS CORE and 9-12 ONLY)', 'SERVICE CATEGORY(K-9* ONLY)',\n",
      "       'NUMBER OF STUDENTS / SEATS FILLED', 'NUMBER OF SECTIONS',\n",
      "       'AVERAGE CLASS SIZE', 'SIZE OF SMALLEST CLASS', 'SIZE OF LARGEST CLASS',\n",
      "       'DATA SOURCE', 'SCHOOLWIDE PUPIL-TEACHER RATIO'],\n",
      "      dtype='object')\n",
      "\n",
      "\n",
      "demographics\n",
      "\n",
      "\n",
      "Index(['DBN', 'Name', 'schoolyear', 'fl_percent', 'frl_percent',\n",
      "       'total_enrollment', 'prek', 'k', 'grade1', 'grade2', 'grade3', 'grade4',\n",
      "       'grade5', 'grade6', 'grade7', 'grade8', 'grade9', 'grade10', 'grade11',\n",
      "       'grade12', 'ell_num', 'ell_percent', 'sped_num', 'sped_percent',\n",
      "       'ctt_num', 'selfcontained_num', 'asian_num', 'asian_per', 'black_num',\n",
      "       'black_per', 'hispanic_num', 'hispanic_per', 'white_num', 'white_per',\n",
      "       'male_num', 'male_per', 'female_num', 'female_per'],\n",
      "      dtype='object')\n",
      "\n",
      "\n",
      "graduation\n",
      "\n",
      "\n",
      "Index(['Demographic', 'DBN', 'School Name', 'Cohort', 'Total Cohort',\n",
      "       'Total Grads - n', 'Total Grads - % of cohort', 'Total Regents - n',\n",
      "       'Total Regents - % of cohort', 'Total Regents - % of grads',\n",
      "       'Advanced Regents - n', 'Advanced Regents - % of cohort',\n",
      "       'Advanced Regents - % of grads', 'Regents w/o Advanced - n',\n",
      "       'Regents w/o Advanced - % of cohort',\n",
      "       'Regents w/o Advanced - % of grads', 'Local - n', 'Local - % of cohort',\n",
      "       'Local - % of grads', 'Still Enrolled - n',\n",
      "       'Still Enrolled - % of cohort', 'Dropped Out - n',\n",
      "       'Dropped Out - % of cohort'],\n",
      "      dtype='object')\n",
      "\n",
      "\n",
      "hs_directory\n",
      "\n",
      "\n",
      "Index(['dbn', 'school_name', 'borough', 'building_code', 'phone_number',\n",
      "       'fax_number', 'grade_span_min', 'grade_span_max', 'expgrade_span_min',\n",
      "       'expgrade_span_max', 'bus', 'subway', 'primary_address_line_1', 'city',\n",
      "       'state_code', 'postcode', 'website', 'total_students', 'campus_name',\n",
      "       'school_type', 'overview_paragraph', 'program_highlights',\n",
      "       'language_classes', 'advancedplacement_courses', 'online_ap_courses',\n",
      "       'online_language_courses', 'extracurricular_activities',\n",
      "       'psal_sports_boys', 'psal_sports_girls', 'psal_sports_coed',\n",
      "       'school_sports', 'partner_cbo', 'partner_hospital', 'partner_highered',\n",
      "       'partner_cultural', 'partner_nonprofit', 'partner_corporate',\n",
      "       'partner_financial', 'partner_other', 'addtl_info1', 'addtl_info2',\n",
      "       'start_time', 'end_time', 'se_services', 'ell_programs',\n",
      "       'school_accessibility_description', 'number_programs', 'priority01',\n",
      "       'priority02', 'priority03', 'priority04', 'priority05', 'priority06',\n",
      "       'priority07', 'priority08', 'priority09', 'priority10', 'Location 1',\n",
      "       'Community Board', 'Council District', 'Census Tract', 'BIN', 'BBL',\n",
      "       'NTA'],\n",
      "      dtype='object')\n",
      "\n",
      "\n",
      "sat_results\n",
      "\n",
      "\n",
      "Index(['DBN', 'SCHOOL NAME', 'Num of SAT Test Takers',\n",
      "       'SAT Critical Reading Avg. Score', 'SAT Math Avg. Score',\n",
      "       'SAT Writing Avg. Score'],\n",
      "      dtype='object')\n",
      "\n",
      "\n"
     ]
    }
   ],
   "source": [
    "for key in data:\n",
    "    print(key)\n",
    "    print('\\n')\n",
    "    pprint.pprint( data[key].columns)\n",
    "    print('\\n')"
   ]
  },
  {
   "cell_type": "markdown",
   "metadata": {},
   "source": [
    "## Obeservations:\n",
    "\n",
    "- **DBN** :Every school in the system can be identified by its 6-digit code (DBN). The first two numbers represent the school district. The third character of the school code signifies the borough in which the school is located (M = Manhattan, X = Bronx, R = Staten Island, K = Brooklyn and Q = Queens). The final three digits are unique within borough\n",
    "\n",
    "## *Class-size*:\n",
    "\n",
    "- The data set doesn't have a DBN column -which is our key column for merging all the data. DBN is the sum of CSD and School Code, but the CSD has a 0 to the left of each number in the other data sets. This need to be corrected before creating the DBN column\n",
    "\n",
    "- The grade column should only inclue high school students, which is “09-12\"\n",
    "\n",
    "- In the Program Type Column, I would only leave 'GEN ED' , because the other program types are focused on kids with special needs. Here's the explanation for each:\n",
    "\n",
    "     **General Education (GE)** :General education classes are those classes not coded as special education, integrated co-teaching, gifted and talented, or accelerated. \n",
    "\n",
    "     **Gifted and Talented (G&T)** : G&T classes are identified as classes in grades K-5 where students have been placed through the DOE’s G&T screening process.\n",
    "\n",
    "     **Integrated Co-Teaching (Formerly Collaborative Team Teaching or CTT)** : Integrated Co-Teaching (ICT) ensures that students with disabilities are educated alongside age-appropriate peers in a general education setting.\n",
    "\n",
    "     **Self-contained Special Education(SPEC ED)**: Self-contained special education classrooms, are those with IEP defining specific student/teacher/paraprofessional ratios. The ratio of students to teachers and paraprofessionals (Setting) is denoted as 12:1, 12:1:1, etc.\n",
    "     \n",
    "    **Accelerated Courses** : Middle school accelerated courses are high school credit-bearing courses offered to middle school students.\n",
    "    \n",
    "- The data set has multiple rows for the same DBN, it should be condensed\n",
    "\n",
    "\n",
    "## *Demographics*:\n",
    "\n",
    "- The data set has multiple rows for the same DBN,it should be condensed\n",
    "- The school years should be 2011 2012\n",
    "\n",
    "## *Graduation*:\n",
    "\n",
    "- The data set has multiple rows for the same DBN, it should be condensed \n",
    "- Reduce de data set to only total cohort in the Demographic column"
   ]
  },
  {
   "cell_type": "markdown",
   "metadata": {},
   "source": [
    "# Read in the surveys"
   ]
  },
  {
   "cell_type": "code",
   "execution_count": 4,
   "metadata": {},
   "outputs": [],
   "source": [
    "all_survey = pd.read_csv(\"survey_all.txt\", delimiter=\"\\t\", encoding='windows-1252')\n",
    "d75_survey = pd.read_csv(\"survey_d75.txt\", delimiter=\"\\t\", encoding='windows-1252')\n",
    "survey = pd.concat([all_survey, d75_survey], axis=0)\n",
    "\n",
    "# Creating a DBN columns by copying the dbn column\n",
    "survey[\"DBN\"] = survey[\"dbn\"]"
   ]
  },
  {
   "cell_type": "markdown",
   "metadata": {},
   "source": [
    "There are many unnecessary columns, so I will erase them. Here is a list of the ones staying:\n",
    "    \n",
    "- dbn: School identification code (district borough number)\n",
    "- rr_s: Student Response Rate\n",
    "- rr_t: Teacher Response Rate\n",
    "- rr_p: Parent Response Rate\n",
    "- N_s: Number of student respondents\n",
    "- N_t: Number of teacher respondents\n",
    "- N_p: Number of parent respondents\n",
    "- nr_s: Number of eligible students\n",
    "- nr_t: Number of eligible teachers\n",
    "- nr_p: Number of eligible parents\n",
    "- saf_p_11: Safety and Respect score based on parent responses\n",
    "- com_p_11: Communication score based on parent responses\n",
    "- eng_p_11: Engagement score based on parent responses\n",
    "- aca_p_11: Academic expectations score based on parent responses\n",
    "- saf_t_11: Safety and Respect score based on teacher responses\n",
    "- com_t_11: Communication score based on teacher responses\n",
    "- eng_t_11: Engagement score based on teacher responses\n",
    "- aca_t_11: Academic expectations score based on teacher responses\n",
    "- saf_s_11: Safety and Respect score based on student responses\n",
    "- com_s_11: Communication score based on student responses\n",
    "- eng_s_11: Engagement score based on student responses\n",
    "- aca_s_11: Academic expectations score based on student responses\n",
    "- saf_tot_11: Safety and Respect total score\n",
    "- com_tot_11: Communication total score\n",
    "- eng_tot_11: Engagement total score\n",
    "- aca_tot_11: Academic Expectations total score"
   ]
  },
  {
   "cell_type": "code",
   "execution_count": 5,
   "metadata": {},
   "outputs": [],
   "source": [
    "survey_fields = [\n",
    "    \"DBN\", \n",
    "    \"rr_s\", \n",
    "    \"rr_t\", \n",
    "    \"rr_p\", \n",
    "    \"N_s\", \n",
    "    \"N_t\", \n",
    "    \"N_p\", \n",
    "    \"saf_p_11\", \n",
    "    \"com_p_11\", \n",
    "    \"eng_p_11\", \n",
    "    \"aca_p_11\", \n",
    "    \"saf_t_11\", \n",
    "    \"com_t_11\", \n",
    "    \"eng_t_11\", \n",
    "    \"aca_t_11\", \n",
    "    \"saf_s_11\", \n",
    "    \"com_s_11\", \n",
    "    \"eng_s_11\", \n",
    "    \"aca_s_11\", \n",
    "    \"saf_tot_11\", \n",
    "    \"com_tot_11\", \n",
    "    \"eng_tot_11\", \n",
    "    \"aca_tot_11\",\n",
    "]\n",
    "survey = survey.loc[:,survey_fields]\n",
    "data[\"survey\"] = survey"
   ]
  },
  {
   "cell_type": "markdown",
   "metadata": {},
   "source": [
    "# Add DBN columns"
   ]
  },
  {
   "cell_type": "code",
   "execution_count": 6,
   "metadata": {},
   "outputs": [
    {
     "data": {
      "text/plain": [
       "Index(['DBN', 'school_name', 'borough', 'building_code', 'phone_number',\n",
       "       'fax_number', 'grade_span_min', 'grade_span_max', 'expgrade_span_min',\n",
       "       'expgrade_span_max', 'bus', 'subway', 'primary_address_line_1', 'city',\n",
       "       'state_code', 'postcode', 'website', 'total_students', 'campus_name',\n",
       "       'school_type', 'overview_paragraph', 'program_highlights',\n",
       "       'language_classes', 'advancedplacement_courses', 'online_ap_courses',\n",
       "       'online_language_courses', 'extracurricular_activities',\n",
       "       'psal_sports_boys', 'psal_sports_girls', 'psal_sports_coed',\n",
       "       'school_sports', 'partner_cbo', 'partner_hospital', 'partner_highered',\n",
       "       'partner_cultural', 'partner_nonprofit', 'partner_corporate',\n",
       "       'partner_financial', 'partner_other', 'addtl_info1', 'addtl_info2',\n",
       "       'start_time', 'end_time', 'se_services', 'ell_programs',\n",
       "       'school_accessibility_description', 'number_programs', 'priority01',\n",
       "       'priority02', 'priority03', 'priority04', 'priority05', 'priority06',\n",
       "       'priority07', 'priority08', 'priority09', 'priority10', 'Location 1',\n",
       "       'Community Board', 'Council District', 'Census Tract', 'BIN', 'BBL',\n",
       "       'NTA'],\n",
       "      dtype='object')"
      ]
     },
     "execution_count": 6,
     "metadata": {},
     "output_type": "execute_result"
    }
   ],
   "source": [
    "# Renaming the dbn column to DBN in the hs_directory\n",
    "data[\"hs_directory\"].rename(columns={'dbn':'DBN'},inplace=True)\n",
    "data[\"hs_directory\"].columns"
   ]
  },
  {
   "cell_type": "code",
   "execution_count": 7,
   "metadata": {},
   "outputs": [
    {
     "data": {
      "text/plain": [
       "0    01M015\n",
       "1    01M015\n",
       "2    01M015\n",
       "Name: DBN, dtype: object"
      ]
     },
     "execution_count": 7,
     "metadata": {},
     "output_type": "execute_result"
    }
   ],
   "source": [
    "# Creating a function for padding the CSD in the class_size data set\n",
    "def pad_csd(num):\n",
    "    string_representation = str(num)\n",
    "    if len(string_representation) > 1:\n",
    "        return string_representation\n",
    "    else:\n",
    "        return \"0\" + string_representation\n",
    "    \n",
    "# Creating a Padded  CSD column and creating the DBN column using the padded csd column in the class_size data set    \n",
    "data[\"class_size\"][\"padded_csd\"] = data[\"class_size\"][\"CSD\"].apply(pad_csd)\n",
    "data[\"class_size\"][\"DBN\"] = data[\"class_size\"][\"padded_csd\"] + data[\"class_size\"][\"SCHOOL CODE\"]\n",
    "data[\"class_size\"][\"DBN\"].head(3)"
   ]
  },
  {
   "cell_type": "markdown",
   "metadata": {},
   "source": [
    "# Convert columns to numeric"
   ]
  },
  {
   "cell_type": "code",
   "execution_count": 8,
   "metadata": {},
   "outputs": [],
   "source": [
    "#converting some columns in the sat_results data set to numeric\n",
    "cols = ['SAT Math Avg. Score', 'SAT Critical Reading Avg. Score', 'SAT Writing Avg. Score']\n",
    "for c in cols:\n",
    "    data[\"sat_results\"][c] = pd.to_numeric(data[\"sat_results\"][c], errors=\"coerce\")\n",
    "    \n",
    "#Creating an sat_score column in the sat_reults data set\n",
    "data['sat_results']['sat_score'] = data['sat_result`s'][cols[0]] + data['sat_results'][cols[1]] + data['sat_results'][cols[2]]"
   ]
  },
  {
   "cell_type": "code",
   "execution_count": 9,
   "metadata": {},
   "outputs": [
    {
     "data": {
      "text/plain": [
       "0    8 21 Bay 25 Street\\nFar Rockaway, NY 11691\\n(40.601989336, -73.762834323)\n",
       "1        2630 Benson Avenue\\nBrooklyn, NY 11214\\n(40.593593811, -73.984729232)\n",
       "2     1014 Lafayette Avenue\\nBrooklyn, NY 11221\\n(40.692133704, -73.931503172)\n",
       "Name: Location 1, dtype: object"
      ]
     },
     "execution_count": 9,
     "metadata": {},
     "output_type": "execute_result"
    }
   ],
   "source": [
    "#Extracting the latitud and longitude from the locaton_1 column in the hs_directory data set\n",
    "\n",
    "pd.set_option('max_colwidth', 1000)\n",
    "data[\"hs_directory\"][\"Location 1\"].head(3)"
   ]
  },
  {
   "cell_type": "markdown",
   "metadata": {},
   "source": [
    "**The latitude and longitude are inside the parentheses.**"
   ]
  },
  {
   "cell_type": "code",
   "execution_count": 10,
   "metadata": {},
   "outputs": [
    {
     "data": {
      "text/html": [
       "<div>\n",
       "<style scoped>\n",
       "    .dataframe tbody tr th:only-of-type {\n",
       "        vertical-align: middle;\n",
       "    }\n",
       "\n",
       "    .dataframe tbody tr th {\n",
       "        vertical-align: top;\n",
       "    }\n",
       "\n",
       "    .dataframe thead th {\n",
       "        text-align: right;\n",
       "    }\n",
       "</style>\n",
       "<table border=\"1\" class=\"dataframe\">\n",
       "  <thead>\n",
       "    <tr style=\"text-align: right;\">\n",
       "      <th></th>\n",
       "      <th>Location 1</th>\n",
       "      <th>lat</th>\n",
       "      <th>lon</th>\n",
       "    </tr>\n",
       "  </thead>\n",
       "  <tbody>\n",
       "    <tr>\n",
       "      <th>0</th>\n",
       "      <td>8 21 Bay 25 Street\\nFar Rockaway, NY 11691\\n(40.601989336, -73.762834323)</td>\n",
       "      <td>40.601989</td>\n",
       "      <td>-73.762834</td>\n",
       "    </tr>\n",
       "    <tr>\n",
       "      <th>1</th>\n",
       "      <td>2630 Benson Avenue\\nBrooklyn, NY 11214\\n(40.593593811, -73.984729232)</td>\n",
       "      <td>40.593594</td>\n",
       "      <td>-73.984729</td>\n",
       "    </tr>\n",
       "    <tr>\n",
       "      <th>2</th>\n",
       "      <td>1014 Lafayette Avenue\\nBrooklyn, NY 11221\\n(40.692133704, -73.931503172)</td>\n",
       "      <td>40.692134</td>\n",
       "      <td>-73.931503</td>\n",
       "    </tr>\n",
       "  </tbody>\n",
       "</table>\n",
       "</div>"
      ],
      "text/plain": [
       "                                                                  Location 1  \\\n",
       "0  8 21 Bay 25 Street\\nFar Rockaway, NY 11691\\n(40.601989336, -73.762834323)   \n",
       "1      2630 Benson Avenue\\nBrooklyn, NY 11214\\n(40.593593811, -73.984729232)   \n",
       "2   1014 Lafayette Avenue\\nBrooklyn, NY 11221\\n(40.692133704, -73.931503172)   \n",
       "\n",
       "         lat        lon  \n",
       "0  40.601989 -73.762834  \n",
       "1  40.593594 -73.984729  \n",
       "2  40.692134 -73.931503  "
      ]
     },
     "execution_count": 10,
     "metadata": {},
     "output_type": "execute_result"
    }
   ],
   "source": [
    "#Creating two functions : one for the extracting the  latitude and  for the longitude. \n",
    "\n",
    "def find_lat(loc):\n",
    "    coords = re.findall(\"\\(.+, .+\\)\", loc)\n",
    "    lat = coords[0].split(\",\")[0].replace(\"(\", \"\")\n",
    "    return lat\n",
    "\n",
    "def find_lon(loc):\n",
    "    coords = re.findall(\"\\(.+, .+\\)\", loc)\n",
    "    lon = coords[0].split(\",\")[1].replace(\")\", \"\").strip()\n",
    "    return lon\n",
    "#One column for each is created in the hs_directory data set \n",
    "data[\"hs_directory\"][\"lat\"] = data[\"hs_directory\"][\"Location 1\"].apply(find_lat)\n",
    "data[\"hs_directory\"][\"lon\"] = data[\"hs_directory\"][\"Location 1\"].apply(find_lon)\n",
    "     \n",
    "data[\"hs_directory\"][\"lat\"] = pd.to_numeric(data[\"hs_directory\"][\"lat\"], errors=\"coerce\")\n",
    "data[\"hs_directory\"][\"lon\"] = pd.to_numeric(data[\"hs_directory\"][\"lon\"], errors=\"coerce\")\n",
    "\n",
    "data[\"hs_directory\"][['Location 1','lat','lon']].head(3)"
   ]
  },
  {
   "cell_type": "code",
   "execution_count": 11,
   "metadata": {},
   "outputs": [],
   "source": [
    "## Convert AP scores to numeric\n",
    "cols = ['AP Test Takers ', 'Total Exams Taken', 'Number of Exams with scores 3 4 or 5']\n",
    "\n",
    "for col in cols:\n",
    "    data[\"ap_2010\"][col] = pd.to_numeric(data[\"ap_2010\"][col], errors=\"coerce\")"
   ]
  },
  {
   "cell_type": "markdown",
   "metadata": {},
   "source": [
    "# Condense datasets"
   ]
  },
  {
   "cell_type": "code",
   "execution_count": 12,
   "metadata": {},
   "outputs": [
    {
     "data": {
      "text/html": [
       "<div>\n",
       "<style scoped>\n",
       "    .dataframe tbody tr th:only-of-type {\n",
       "        vertical-align: middle;\n",
       "    }\n",
       "\n",
       "    .dataframe tbody tr th {\n",
       "        vertical-align: top;\n",
       "    }\n",
       "\n",
       "    .dataframe thead th {\n",
       "        text-align: right;\n",
       "    }\n",
       "</style>\n",
       "<table border=\"1\" class=\"dataframe\">\n",
       "  <thead>\n",
       "    <tr style=\"text-align: right;\">\n",
       "      <th></th>\n",
       "      <th>CSD</th>\n",
       "      <th>BOROUGH</th>\n",
       "      <th>SCHOOL CODE</th>\n",
       "      <th>SCHOOL NAME</th>\n",
       "      <th>GRADE</th>\n",
       "      <th>PROGRAM TYPE</th>\n",
       "      <th>CORE SUBJECT (MS CORE and 9-12 ONLY)</th>\n",
       "      <th>CORE COURSE (MS CORE and 9-12 ONLY)</th>\n",
       "      <th>SERVICE CATEGORY(K-9* ONLY)</th>\n",
       "      <th>NUMBER OF STUDENTS / SEATS FILLED</th>\n",
       "      <th>NUMBER OF SECTIONS</th>\n",
       "      <th>AVERAGE CLASS SIZE</th>\n",
       "      <th>SIZE OF SMALLEST CLASS</th>\n",
       "      <th>SIZE OF LARGEST CLASS</th>\n",
       "      <th>DATA SOURCE</th>\n",
       "      <th>SCHOOLWIDE PUPIL-TEACHER RATIO</th>\n",
       "      <th>padded_csd</th>\n",
       "      <th>DBN</th>\n",
       "    </tr>\n",
       "  </thead>\n",
       "  <tbody>\n",
       "    <tr>\n",
       "      <th>225</th>\n",
       "      <td>1</td>\n",
       "      <td>M</td>\n",
       "      <td>M292</td>\n",
       "      <td>Henry Street School for International Studies</td>\n",
       "      <td>09-12</td>\n",
       "      <td>GEN ED</td>\n",
       "      <td>ENGLISH</td>\n",
       "      <td>English 9</td>\n",
       "      <td>-</td>\n",
       "      <td>63.0</td>\n",
       "      <td>3.0</td>\n",
       "      <td>21.0</td>\n",
       "      <td>19.0</td>\n",
       "      <td>25.0</td>\n",
       "      <td>STARS</td>\n",
       "      <td>NaN</td>\n",
       "      <td>01</td>\n",
       "      <td>01M292</td>\n",
       "    </tr>\n",
       "    <tr>\n",
       "      <th>226</th>\n",
       "      <td>1</td>\n",
       "      <td>M</td>\n",
       "      <td>M292</td>\n",
       "      <td>Henry Street School for International Studies</td>\n",
       "      <td>09-12</td>\n",
       "      <td>GEN ED</td>\n",
       "      <td>ENGLISH</td>\n",
       "      <td>English 10</td>\n",
       "      <td>-</td>\n",
       "      <td>79.0</td>\n",
       "      <td>3.0</td>\n",
       "      <td>26.3</td>\n",
       "      <td>24.0</td>\n",
       "      <td>31.0</td>\n",
       "      <td>STARS</td>\n",
       "      <td>NaN</td>\n",
       "      <td>01</td>\n",
       "      <td>01M292</td>\n",
       "    </tr>\n",
       "    <tr>\n",
       "      <th>227</th>\n",
       "      <td>1</td>\n",
       "      <td>M</td>\n",
       "      <td>M292</td>\n",
       "      <td>Henry Street School for International Studies</td>\n",
       "      <td>09-12</td>\n",
       "      <td>GEN ED</td>\n",
       "      <td>ENGLISH</td>\n",
       "      <td>English 11</td>\n",
       "      <td>-</td>\n",
       "      <td>38.0</td>\n",
       "      <td>2.0</td>\n",
       "      <td>19.0</td>\n",
       "      <td>16.0</td>\n",
       "      <td>22.0</td>\n",
       "      <td>STARS</td>\n",
       "      <td>NaN</td>\n",
       "      <td>01</td>\n",
       "      <td>01M292</td>\n",
       "    </tr>\n",
       "  </tbody>\n",
       "</table>\n",
       "</div>"
      ],
      "text/plain": [
       "     CSD BOROUGH SCHOOL CODE                                    SCHOOL NAME  \\\n",
       "225    1       M        M292  Henry Street School for International Studies   \n",
       "226    1       M        M292  Henry Street School for International Studies   \n",
       "227    1       M        M292  Henry Street School for International Studies   \n",
       "\n",
       "    GRADE  PROGRAM TYPE CORE SUBJECT (MS CORE and 9-12 ONLY)  \\\n",
       "225  09-12       GEN ED                              ENGLISH   \n",
       "226  09-12       GEN ED                              ENGLISH   \n",
       "227  09-12       GEN ED                              ENGLISH   \n",
       "\n",
       "    CORE COURSE (MS CORE and 9-12 ONLY) SERVICE CATEGORY(K-9* ONLY)  \\\n",
       "225                           English 9                           -   \n",
       "226                          English 10                           -   \n",
       "227                          English 11                           -   \n",
       "\n",
       "     NUMBER OF STUDENTS / SEATS FILLED  NUMBER OF SECTIONS  \\\n",
       "225                               63.0                 3.0   \n",
       "226                               79.0                 3.0   \n",
       "227                               38.0                 2.0   \n",
       "\n",
       "     AVERAGE CLASS SIZE  SIZE OF SMALLEST CLASS  SIZE OF LARGEST CLASS  \\\n",
       "225                21.0                    19.0                   25.0   \n",
       "226                26.3                    24.0                   31.0   \n",
       "227                19.0                    16.0                   22.0   \n",
       "\n",
       "    DATA SOURCE  SCHOOLWIDE PUPIL-TEACHER RATIO padded_csd     DBN  \n",
       "225       STARS                             NaN         01  01M292  \n",
       "226       STARS                             NaN         01  01M292  \n",
       "227       STARS                             NaN         01  01M292  "
      ]
     },
     "execution_count": 12,
     "metadata": {},
     "output_type": "execute_result"
    }
   ],
   "source": [
    "#Filtering the data set class_size to only include data from high school students and general education programs\n",
    "class_size = data[\"class_size\"]\n",
    "class_size = class_size[class_size[\"GRADE \"] == \"09-12\"]\n",
    "class_size = class_size[class_size[\"PROGRAM TYPE\"] == \"GEN ED\"]\n",
    "class_size.head(3)"
   ]
  },
  {
   "cell_type": "code",
   "execution_count": 13,
   "metadata": {},
   "outputs": [
    {
     "data": {
      "text/html": [
       "<div>\n",
       "<style scoped>\n",
       "    .dataframe tbody tr th:only-of-type {\n",
       "        vertical-align: middle;\n",
       "    }\n",
       "\n",
       "    .dataframe tbody tr th {\n",
       "        vertical-align: top;\n",
       "    }\n",
       "\n",
       "    .dataframe thead th {\n",
       "        text-align: right;\n",
       "    }\n",
       "</style>\n",
       "<table border=\"1\" class=\"dataframe\">\n",
       "  <thead>\n",
       "    <tr style=\"text-align: right;\">\n",
       "      <th></th>\n",
       "      <th>DBN</th>\n",
       "      <th>CSD</th>\n",
       "      <th>NUMBER OF STUDENTS / SEATS FILLED</th>\n",
       "      <th>NUMBER OF SECTIONS</th>\n",
       "      <th>AVERAGE CLASS SIZE</th>\n",
       "      <th>SIZE OF SMALLEST CLASS</th>\n",
       "      <th>SIZE OF LARGEST CLASS</th>\n",
       "      <th>SCHOOLWIDE PUPIL-TEACHER RATIO</th>\n",
       "    </tr>\n",
       "  </thead>\n",
       "  <tbody>\n",
       "    <tr>\n",
       "      <th>0</th>\n",
       "      <td>01M292</td>\n",
       "      <td>1</td>\n",
       "      <td>88.0</td>\n",
       "      <td>4.0</td>\n",
       "      <td>22.564286</td>\n",
       "      <td>18.5</td>\n",
       "      <td>26.571429</td>\n",
       "      <td>NaN</td>\n",
       "    </tr>\n",
       "    <tr>\n",
       "      <th>1</th>\n",
       "      <td>01M332</td>\n",
       "      <td>1</td>\n",
       "      <td>46.0</td>\n",
       "      <td>2.0</td>\n",
       "      <td>22.000000</td>\n",
       "      <td>21.0</td>\n",
       "      <td>23.500000</td>\n",
       "      <td>NaN</td>\n",
       "    </tr>\n",
       "    <tr>\n",
       "      <th>2</th>\n",
       "      <td>01M378</td>\n",
       "      <td>1</td>\n",
       "      <td>33.0</td>\n",
       "      <td>1.0</td>\n",
       "      <td>33.000000</td>\n",
       "      <td>33.0</td>\n",
       "      <td>33.000000</td>\n",
       "      <td>NaN</td>\n",
       "    </tr>\n",
       "  </tbody>\n",
       "</table>\n",
       "</div>"
      ],
      "text/plain": [
       "      DBN  CSD  NUMBER OF STUDENTS / SEATS FILLED  NUMBER OF SECTIONS  \\\n",
       "0  01M292    1                               88.0                 4.0   \n",
       "1  01M332    1                               46.0                 2.0   \n",
       "2  01M378    1                               33.0                 1.0   \n",
       "\n",
       "   AVERAGE CLASS SIZE  SIZE OF SMALLEST CLASS  SIZE OF LARGEST CLASS  \\\n",
       "0           22.564286                    18.5              26.571429   \n",
       "1           22.000000                    21.0              23.500000   \n",
       "2           33.000000                    33.0              33.000000   \n",
       "\n",
       "   SCHOOLWIDE PUPIL-TEACHER RATIO  \n",
       "0                             NaN  \n",
       "1                             NaN  \n",
       "2                             NaN  "
      ]
     },
     "execution_count": 13,
     "metadata": {},
     "output_type": "execute_result"
    }
   ],
   "source": [
    "#Grouping the DBNs that are repeated in several rows into a single one, where the values of the other numeric columns will be average\n",
    "class_size = class_size.groupby(\"DBN\").agg(numpy.mean)\n",
    "class_size.reset_index(inplace=True)\n",
    "data[\"class_size\"] = class_size\n",
    "data[\"class_size\"].head(3)"
   ]
  },
  {
   "cell_type": "code",
   "execution_count": 14,
   "metadata": {},
   "outputs": [],
   "source": [
    "#Filtering the demographics data set to only include the 2011-2012 school year\n",
    "data[\"demographics\"] = data[\"demographics\"][data[\"demographics\"][\"schoolyear\"] == 20112012]"
   ]
  },
  {
   "cell_type": "code",
   "execution_count": 15,
   "metadata": {},
   "outputs": [],
   "source": [
    "#Filtering the graduation data set to include the entire group, instead of some subgroup and, the last year, which in this case is 2006\n",
    "data[\"graduation\"] = data[\"graduation\"][data[\"graduation\"][\"Cohort\"] == \"2006\"]\n",
    "data[\"graduation\"] = data[\"graduation\"][data[\"graduation\"][\"Demographic\"] == \"Total Cohort\"]"
   ]
  },
  {
   "cell_type": "markdown",
   "metadata": {},
   "source": [
    "# Combining the Data Sets"
   ]
  },
  {
   "cell_type": "code",
   "execution_count": 34,
   "metadata": {},
   "outputs": [
    {
     "data": {
      "text/plain": [
       "Index(['DBN', 'SCHOOL NAME', 'Num of SAT Test Takers',\n",
       "       'SAT Critical Reading Avg. Score', 'SAT Math Avg. Score',\n",
       "       'SAT Writing Avg. Score', 'sat_score', 'SchoolName', 'AP Test Takers ',\n",
       "       'Total Exams Taken', 'Number of Exams with scores 3 4 or 5',\n",
       "       'Demographic', 'School Name', 'Cohort', 'Total Cohort',\n",
       "       'Total Grads - n', 'Total Grads - % of cohort', 'Total Regents - n',\n",
       "       'Total Regents - % of cohort', 'Total Regents - % of grads',\n",
       "       'Advanced Regents - n', 'Advanced Regents - % of cohort',\n",
       "       'Advanced Regents - % of grads', 'Regents w/o Advanced - n',\n",
       "       'Regents w/o Advanced - % of cohort',\n",
       "       'Regents w/o Advanced - % of grads', 'Local - n', 'Local - % of cohort',\n",
       "       'Local - % of grads', 'Still Enrolled - n',\n",
       "       'Still Enrolled - % of cohort', 'Dropped Out - n',\n",
       "       'Dropped Out - % of cohort', 'CSD', 'NUMBER OF STUDENTS / SEATS FILLED',\n",
       "       'NUMBER OF SECTIONS', 'AVERAGE CLASS SIZE', 'SIZE OF SMALLEST CLASS',\n",
       "       'SIZE OF LARGEST CLASS', 'SCHOOLWIDE PUPIL-TEACHER RATIO', 'Name',\n",
       "       'schoolyear', 'fl_percent', 'frl_percent', 'total_enrollment', 'prek',\n",
       "       'k', 'grade1', 'grade2', 'grade3', 'grade4', 'grade5', 'grade6',\n",
       "       'grade7', 'grade8', 'grade9', 'grade10', 'grade11', 'grade12',\n",
       "       'ell_num', 'ell_percent', 'sped_num', 'sped_percent', 'ctt_num',\n",
       "       'selfcontained_num', 'asian_num', 'asian_per', 'black_num', 'black_per',\n",
       "       'hispanic_num', 'hispanic_per', 'white_num', 'white_per', 'male_num',\n",
       "       'male_per', 'female_num', 'female_per', 'rr_s', 'rr_t', 'rr_p', 'N_s',\n",
       "       'N_t', 'N_p', 'saf_p_11', 'com_p_11', 'eng_p_11', 'aca_p_11',\n",
       "       'saf_t_11', 'com_t_11', 'eng_t_11', 'aca_t_11', 'saf_s_11', 'com_s_11',\n",
       "       'eng_s_11', 'aca_s_11', 'saf_tot_11', 'com_tot_11', 'eng_tot_11',\n",
       "       'aca_tot_11', 'school_name', 'borough', 'building_code', 'phone_number',\n",
       "       'fax_number', 'grade_span_min', 'grade_span_max', 'expgrade_span_min',\n",
       "       'expgrade_span_max', 'bus', 'subway', 'primary_address_line_1', 'city',\n",
       "       'state_code', 'postcode', 'website', 'total_students', 'campus_name',\n",
       "       'school_type', 'overview_paragraph', 'program_highlights',\n",
       "       'language_classes', 'advancedplacement_courses', 'online_ap_courses',\n",
       "       'online_language_courses', 'extracurricular_activities',\n",
       "       'psal_sports_boys', 'psal_sports_girls', 'psal_sports_coed',\n",
       "       'school_sports', 'partner_cbo', 'partner_hospital', 'partner_highered',\n",
       "       'partner_cultural', 'partner_nonprofit', 'partner_corporate',\n",
       "       'partner_financial', 'partner_other', 'addtl_info1', 'addtl_info2',\n",
       "       'start_time', 'end_time', 'se_services', 'ell_programs',\n",
       "       'school_accessibility_description', 'number_programs', 'priority01',\n",
       "       'priority02', 'priority03', 'priority04', 'priority05', 'priority06',\n",
       "       'priority07', 'priority08', 'priority09', 'priority10', 'Location 1',\n",
       "       'Community Board', 'Council District', 'Census Tract', 'BIN', 'BBL',\n",
       "       'NTA', 'lat', 'lon'],\n",
       "      dtype='object')"
      ]
     },
     "execution_count": 34,
     "metadata": {},
     "output_type": "execute_result"
    }
   ],
   "source": [
    "#Left merge with DBN as the key value\n",
    "combined = data[\"sat_results\"]\n",
    "combined = combined.merge(data[\"ap_2010\"], on=\"DBN\", how=\"left\")\n",
    "combined = combined.merge(data[\"graduation\"], on=\"DBN\", how=\"left\")\n",
    "\n",
    "#Inner Merge with DBN as the key value and filling Nan values with the mean\n",
    "to_merge = [\"class_size\", \"demographics\", \"survey\", \"hs_directory\"]\n",
    "\n",
    "for m in to_merge:\n",
    "    combined = combined.merge(data[m], on=\"DBN\", how=\"inner\")\n",
    "\n",
    "combined = combined.fillna(combined.mean())\n",
    "combined = combined.fillna(0)\n",
    "\n",
    "pd.set_option('max_seq_items',300)\n",
    "combined.columns"
   ]
  },
  {
   "cell_type": "code",
   "execution_count": 17,
   "metadata": {},
   "outputs": [
    {
     "data": {
      "text/plain": [
       "(363, 164)"
      ]
     },
     "execution_count": 17,
     "metadata": {},
     "output_type": "execute_result"
    }
   ],
   "source": [
    "combined.shape"
   ]
  },
  {
   "cell_type": "markdown",
   "metadata": {},
   "source": [
    "**The resulting data set has 165 columns in total. As I mentioned earlier, my objective is to determine the relationship between these variables and the SAT score. I  will calculte the correlation coefficient of each of these variables  and analyze in greater detail the most relevant ones.**"
   ]
  },
  {
   "cell_type": "markdown",
   "metadata": {},
   "source": [
    "# Data Analysis: Finding Correlations"
   ]
  },
  {
   "cell_type": "code",
   "execution_count": 18,
   "metadata": {
    "collapsed": false,
    "jupyter": {
     "outputs_hidden": false
    }
   },
   "outputs": [
    {
     "name": "stdout",
     "output_type": "stream",
     "text": [
      "                                variable  sat_score correlation\n",
      "3                              sat_score               1.000000\n",
      "2                 SAT Writing Avg. Score               0.987771\n",
      "0        SAT Critical Reading Avg. Score               0.986820\n",
      "1                    SAT Math Avg. Score               0.972643\n",
      "11        Advanced Regents - % of cohort               0.771566\n",
      "12         Advanced Regents - % of grads               0.739927\n",
      "9            Total Regents - % of cohort               0.667603\n",
      "41                             white_per               0.620718\n",
      "8              Total Grads - % of cohort               0.584234\n",
      "35                             asian_per               0.570730\n",
      "4                        AP Test Takers                0.523140\n",
      "5                      Total Exams Taken               0.514333\n",
      "10            Total Regents - % of grads               0.494732\n",
      "34                             asian_num               0.475445\n",
      "6   Number of Exams with scores 3 4 or 5               0.463245\n",
      "40                             white_num               0.449559\n",
      "49                                   N_s               0.423463\n",
      "51                                   N_p               0.421530\n",
      "73                        total_students               0.407827\n",
      "20     NUMBER OF STUDENTS / SEATS FILLED               0.394626\n",
      "44                            female_num               0.388631\n",
      "22                    AVERAGE CLASS SIZE               0.381014\n",
      "29                      total_enrollment               0.367857\n",
      "21                    NUMBER OF SECTIONS               0.362673\n",
      "63                              aca_s_11               0.339435\n",
      "60                              saf_s_11               0.337639\n",
      "42                              male_num               0.325520\n",
      "7                           Total Cohort               0.325144\n",
      "64                            saf_tot_11               0.318753\n",
      "24                 SIZE OF LARGEST CLASS               0.314434\n",
      "56                              saf_t_11               0.313810\n",
      "50                                   N_t               0.291463\n",
      "/n\n",
      "                             variable  sat_score correlation\n",
      "37                          black_per              -0.284139\n",
      "39                       hispanic_per              -0.396985\n",
      "31                        ell_percent              -0.398750\n",
      "33                       sped_percent              -0.448170\n",
      "14  Regents w/o Advanced - % of grads              -0.456213\n",
      "18          Dropped Out - % of cohort              -0.458537\n",
      "15                Local - % of cohort              -0.467951\n",
      "17       Still Enrolled - % of cohort              -0.491914\n",
      "16                 Local - % of grads              -0.494732\n",
      "28                        frl_percent              -0.722225\n"
     ]
    }
   ],
   "source": [
    "# Calculating the correlation between the SAT score and all the other variables\n",
    "\n",
    "correlations = combined.corr()\n",
    "sat_correlations = correlations[\"sat_score\"]\n",
    "correlations_df = pd.DataFrame(sat_correlations).reset_index()\n",
    "correlations_df.rename(columns={'index':'variable','sat_score':'sat_score correlation'}, inplace=True)\n",
    "pd.set_option('display.max_rows',None)\n",
    "correlations_df = correlations_df.sort_values(by='sat_score correlation',ascending = False)\n",
    "print(pd.DataFrame(correlations_df[correlations_df['sat_score correlation']>0.25]))\n",
    "print('/n')\n",
    "print(correlations_df[correlations_df['sat_score correlation']<-0.25])"
   ]
  },
  {
   "cell_type": "markdown",
   "metadata": {},
   "source": [
    "# Observations:\n",
    "- Some variables of the survey show a significant correlation, of which I can highlight the academic expectations and how safe the schools are perceived to be.\n",
    "\n",
    "- The percentage of people who took the Regents and AP exams, and how well the perfomed on it, shows a high correlation with SAT scores.\n",
    "\n",
    "- Race shows significant correlations, both positive and negative, depending  which race is taken into account.\n",
    "\n",
    "- Regarding which sex predominates in the composition of the classrooms, that is, if there are more women or men, it does not seem to affect the SAT score very significantly."
   ]
  },
  {
   "cell_type": "markdown",
   "metadata": {},
   "source": [
    "# Survey and SAT Score"
   ]
  },
  {
   "cell_type": "code",
   "execution_count": 19,
   "metadata": {
    "collapsed": false,
    "jupyter": {
     "outputs_hidden": false
    }
   },
   "outputs": [],
   "source": [
    "# Remove DBN since it's a unique identifier, not a useful numerical value for correlation.\n",
    "survey_fields.remove(\"DBN\")\n",
    "import matplotlib.pyplot as plt\n",
    "%matplotlib inline"
   ]
  },
  {
   "cell_type": "markdown",
   "metadata": {},
   "source": [
    "* rr  = response rate \n",
    "* N = Number of  respondents\n",
    "* nr = number of eligible \n",
    "* sf = Safety and Respect\n",
    "* com = Communication score based \n",
    "* eng = Engagement score based \n",
    "* aca = Academic expectations "
   ]
  },
  {
   "cell_type": "code",
   "execution_count": 35,
   "metadata": {
    "collapsed": false,
    "jupyter": {
     "outputs_hidden": false
    }
   },
   "outputs": [
    {
     "data": {
      "image/png": "[encoded data removed]",
      "text/plain": [
       "<Figure size 432x288 with 1 Axes>"
      ]
     },
     "metadata": {
      "needs_background": "light"
     },
     "output_type": "display_data"
    }
   ],
   "source": [
    "#Graphing the Correlations between the survey variables and the SAT scores.\n",
    "sat_surveyFields_corr = sat_correlations[survey_fields].sort_values(ascending = False)\n",
    "corr_plot = sat_surveyFields_corr.plot.bar(title=\"Survey Fields and SAT Scores Correlations\",y=\"C. Coefficient\")\n",
    "plt.show()"
   ]
  },
  {
   "cell_type": "markdown",
   "metadata": {},
   "source": [
    "The factors that have a positive correlation above 25 are:\n",
    "* Number of parents, students and teacher respondents\n",
    "* Academic Expectations based on students response \n",
    "* Safety and respect for teacher and students"
   ]
  },
  {
   "cell_type": "code",
   "execution_count": 21,
   "metadata": {},
   "outputs": [],
   "source": [
    "warnings.filterwarnings('ignore')"
   ]
  },
  {
   "cell_type": "markdown",
   "metadata": {},
   "source": [
    "## Safety and Respect for Students"
   ]
  },
  {
   "cell_type": "code",
   "execution_count": 39,
   "metadata": {
    "collapsed": false,
    "jupyter": {
     "outputs_hidden": false
    }
   },
   "outputs": [
    {
     "name": "stdout",
     "output_type": "stream",
     "text": [
      "AxesSubplot(0.125,0.125;0.775x0.755)\n"
     ]
    },
    {
     "data": {
      "image/png": "[encoded data removed]",
      "text/plain": [
       "<Figure size 432x288 with 1 Axes>"
      ]
     },
     "metadata": {
      "needs_background": "light"
     },
     "output_type": "display_data"
    },
    {
     "name": "stdout",
     "output_type": "stream",
     "text": [
      "AxesSubplot(0.125,0.125;0.775x0.755)\n"
     ]
    },
    {
     "data": {
      "image/png": "[encoded data removed]",
      "text/plain": [
       "<Figure size 432x288 with 1 Axes>"
      ]
     },
     "metadata": {
      "needs_background": "light"
     },
     "output_type": "display_data"
    }
   ],
   "source": [
    "# Graphing the relationship between Safety and Respect and SAT scores\n",
    "saf_s_11 = combined[['saf_s_11','sat_score']].astype('int')\n",
    "print(combined.plot.scatter(x=\"saf_s_11\",y=\"sat_score\",title='Safety and Respect score based on students responses and SAT score'))\n",
    "plt.show()\n",
    "print(sns.boxplot(saf_s_11['saf_s_11'],saf_s_11['sat_score'],showmeans=True))\n",
    "plt.show()"
   ]
  },
  {
   "cell_type": "markdown",
   "metadata": {},
   "source": [
    "SAT scores and how safe and respectful are schools according to their students, have a positive correlation of 0.34. When looked at closely, the majority of schools have a saf score between 6 and 7 and an average SAT score around 1200.**However, it should be noted that schools with a saf of 8, which is a minority, registered an average score of 1500 points, a significant difference from lower scoring highschools**"
   ]
  },
  {
   "cell_type": "code",
   "execution_count": 23,
   "metadata": {
    "collapsed": false,
    "jupyter": {
     "outputs_hidden": false
    }
   },
   "outputs": [
    {
     "data": {
      "text/html": [
       "<div>\n",
       "<style scoped>\n",
       "    .dataframe tbody tr th:only-of-type {\n",
       "        vertical-align: middle;\n",
       "    }\n",
       "\n",
       "    .dataframe tbody tr th {\n",
       "        vertical-align: top;\n",
       "    }\n",
       "\n",
       "    .dataframe thead th {\n",
       "        text-align: right;\n",
       "    }\n",
       "</style>\n",
       "<table border=\"1\" class=\"dataframe\">\n",
       "  <thead>\n",
       "    <tr style=\"text-align: right;\">\n",
       "      <th></th>\n",
       "      <th>borough</th>\n",
       "      <th>saf_s_11</th>\n",
       "      <th>sat_score</th>\n",
       "    </tr>\n",
       "  </thead>\n",
       "  <tbody>\n",
       "    <tr>\n",
       "      <th>0</th>\n",
       "      <td>Manhattan</td>\n",
       "      <td>6.831370</td>\n",
       "      <td>1278.331410</td>\n",
       "    </tr>\n",
       "    <tr>\n",
       "      <th>1</th>\n",
       "      <td>Queens</td>\n",
       "      <td>6.721875</td>\n",
       "      <td>1286.753032</td>\n",
       "    </tr>\n",
       "    <tr>\n",
       "      <th>2</th>\n",
       "      <td>Bronx</td>\n",
       "      <td>6.606577</td>\n",
       "      <td>1157.598203</td>\n",
       "    </tr>\n",
       "    <tr>\n",
       "      <th>3</th>\n",
       "      <td>Staten Island</td>\n",
       "      <td>6.530000</td>\n",
       "      <td>1382.500000</td>\n",
       "    </tr>\n",
       "    <tr>\n",
       "      <th>4</th>\n",
       "      <td>Brooklyn</td>\n",
       "      <td>6.370755</td>\n",
       "      <td>1181.364461</td>\n",
       "    </tr>\n",
       "  </tbody>\n",
       "</table>\n",
       "</div>"
      ],
      "text/plain": [
       "         borough  saf_s_11    sat_score\n",
       "0      Manhattan  6.831370  1278.331410\n",
       "1         Queens  6.721875  1286.753032\n",
       "2          Bronx  6.606577  1157.598203\n",
       "3  Staten Island  6.530000  1382.500000\n",
       "4       Brooklyn  6.370755  1181.364461"
      ]
     },
     "execution_count": 23,
     "metadata": {},
     "output_type": "execute_result"
    }
   ],
   "source": [
    "boro = combined[['borough','saf_s_11','sat_score']]\n",
    "saf_boro = boro.groupby(\"borough\").agg(numpy.mean).sort_values('saf_s_11',ascending=False)\n",
    "saf_boro = pd.DataFrame(saf_boro)\n",
    "saf_boro = saf_boro.reset_index()\n",
    "saf_boro"
   ]
  },
  {
   "cell_type": "markdown",
   "metadata": {},
   "source": [
    "Manhattan and Queens are the safest, bronx and state island in the middle and brooklyn at the bottom."
   ]
  },
  {
   "cell_type": "markdown",
   "metadata": {},
   "source": [
    "## Academic Expectations based on students response "
   ]
  },
  {
   "cell_type": "code",
   "execution_count": 38,
   "metadata": {},
   "outputs": [
    {
     "name": "stdout",
     "output_type": "stream",
     "text": [
      "AxesSubplot(0.125,0.125;0.775x0.755)\n"
     ]
    },
    {
     "data": {
      "image/png": "[encoded data removed]",
      "text/plain": [
       "<Figure size 432x288 with 1 Axes>"
      ]
     },
     "metadata": {
      "needs_background": "light"
     },
     "output_type": "display_data"
    },
    {
     "name": "stdout",
     "output_type": "stream",
     "text": [
      "AxesSubplot(0.125,0.125;0.775x0.755)\n"
     ]
    },
    {
     "data": {
      "image/png": "[encoded data removed]",
      "text/plain": [
       "<Figure size 432x288 with 1 Axes>"
      ]
     },
     "metadata": {
      "needs_background": "light"
     },
     "output_type": "display_data"
    }
   ],
   "source": [
    "# Graphing the relationship between Students Academic Expectations and SAT scores\n",
    "aca_s_11 = combined[['aca_s_11','sat_score']].astype('int')\n",
    "print(combined.plot.scatter(x=\"aca_s_11\",y=\"sat_score\",title='Academic Expectations based on students response and SAT score'))\n",
    "plt.show()\n",
    "print(sns.boxplot(aca_s_11['aca_s_11'],saf_s_11['sat_score'],showmeans=True))\n",
    "plt.show()"
   ]
  },
  {
   "cell_type": "markdown",
   "metadata": {},
   "source": [
    "SAT scores and the students’ academic expectations have a positive correlation of 0.34. Most students gave their schools a 7 in terms academic expectations . This group of schools registered an average SAT score of 1200. On the other hand, the same group there shows a lot of outliers, with scores as high as 2000+ mark. Additionally, **schools with an 8 registered an average score around 1400 , the highest one,** even above schools with a 9 in academic expectations, which registered an average SAT close to 1300."
   ]
  },
  {
   "cell_type": "markdown",
   "metadata": {},
   "source": [
    "# Race and SAT score"
   ]
  },
  {
   "cell_type": "code",
   "execution_count": 25,
   "metadata": {
    "collapsed": false,
    "jupyter": {
     "outputs_hidden": false
    }
   },
   "outputs": [
    {
     "name": "stdout",
     "output_type": "stream",
     "text": [
      "Race and SAT Score Correlations\n",
      "white_per       0.620718\n",
      "asian_per       0.570730\n",
      "black_per      -0.284139\n",
      "hispanic_per   -0.396985\n",
      "Name: sat_score, dtype: float64\n",
      "\n",
      "\n"
     ]
    },
    {
     "data": {
      "image/png": "[encoded data removed]",
      "text/plain": [
       "<Figure size 1080x720 with 4 Axes>"
      ]
     },
     "metadata": {
      "needs_background": "light"
     },
     "output_type": "display_data"
    }
   ],
   "source": [
    "# Determining the relationship between race and SAT Score\n",
    "race_columns = ['white_per','asian_per','black_per','hispanic_per']\n",
    "print('Race and SAT Score Correlations')\n",
    "print(correlations['sat_score'][race_columns])\n",
    "print('\\n')\n",
    "fig = plt.figure(figsize=(15,10))\n",
    "\n",
    "for sp,race in zip(range(0,4,1),race_columns):\n",
    "    ax = fig.add_subplot(2,2,sp+1)\n",
    "    ax.scatter(combined[race],combined['sat_score'])\n",
    "    ax.set_title('Sat_score and '+str(race)+' Relationship')"
   ]
  },
  {
   "cell_type": "markdown",
   "metadata": {},
   "source": [
    "With a correlation of 0.62, the first graph shows how a higher proportion of white students translates into a higher score. A very similar behavior can be seen with asians. On the other hand, quite the opposite happens with blacks and in a greater proportion with hispanics."
   ]
  },
  {
   "cell_type": "code",
   "execution_count": 26,
   "metadata": {
    "collapsed": false,
    "jupyter": {
     "outputs_hidden": false
    }
   },
   "outputs": [
    {
     "data": {
      "text/html": [
       "<div>\n",
       "<style scoped>\n",
       "    .dataframe tbody tr th:only-of-type {\n",
       "        vertical-align: middle;\n",
       "    }\n",
       "\n",
       "    .dataframe tbody tr th {\n",
       "        vertical-align: top;\n",
       "    }\n",
       "\n",
       "    .dataframe thead th {\n",
       "        text-align: right;\n",
       "    }\n",
       "</style>\n",
       "<table border=\"1\" class=\"dataframe\">\n",
       "  <thead>\n",
       "    <tr style=\"text-align: right;\">\n",
       "      <th></th>\n",
       "      <th>SCHOOL NAME</th>\n",
       "      <th>hispanic_per</th>\n",
       "      <th>sat_score</th>\n",
       "    </tr>\n",
       "  </thead>\n",
       "  <tbody>\n",
       "    <tr>\n",
       "      <th>44</th>\n",
       "      <td>MANHATTAN BRIDGES HIGH SCHOOL</td>\n",
       "      <td>99.8</td>\n",
       "      <td>1058.0</td>\n",
       "    </tr>\n",
       "    <tr>\n",
       "      <th>82</th>\n",
       "      <td>WASHINGTON HEIGHTS EXPEDITIONARY LEARNING SCHOOL</td>\n",
       "      <td>96.7</td>\n",
       "      <td>1174.0</td>\n",
       "    </tr>\n",
       "    <tr>\n",
       "      <th>89</th>\n",
       "      <td>GREGORIO LUPERON HIGH SCHOOL FOR SCIENCE AND MATHEMATICS</td>\n",
       "      <td>99.8</td>\n",
       "      <td>1014.0</td>\n",
       "    </tr>\n",
       "    <tr>\n",
       "      <th>125</th>\n",
       "      <td>ACADEMY FOR LANGUAGE AND TECHNOLOGY</td>\n",
       "      <td>99.4</td>\n",
       "      <td>951.0</td>\n",
       "    </tr>\n",
       "    <tr>\n",
       "      <th>141</th>\n",
       "      <td>INTERNATIONAL SCHOOL FOR LIBERAL ARTS</td>\n",
       "      <td>99.8</td>\n",
       "      <td>934.0</td>\n",
       "    </tr>\n",
       "    <tr>\n",
       "      <th>176</th>\n",
       "      <td>PAN AMERICAN INTERNATIONAL HIGH SCHOOL AT MONROE</td>\n",
       "      <td>99.8</td>\n",
       "      <td>970.0</td>\n",
       "    </tr>\n",
       "    <tr>\n",
       "      <th>253</th>\n",
       "      <td>MULTICULTURAL HIGH SCHOOL</td>\n",
       "      <td>99.8</td>\n",
       "      <td>887.0</td>\n",
       "    </tr>\n",
       "    <tr>\n",
       "      <th>286</th>\n",
       "      <td>PAN AMERICAN INTERNATIONAL HIGH SCHOOL</td>\n",
       "      <td>100.0</td>\n",
       "      <td>951.0</td>\n",
       "    </tr>\n",
       "  </tbody>\n",
       "</table>\n",
       "</div>"
      ],
      "text/plain": [
       "                                                  SCHOOL NAME  hispanic_per  \\\n",
       "44                              MANHATTAN BRIDGES HIGH SCHOOL          99.8   \n",
       "82           WASHINGTON HEIGHTS EXPEDITIONARY LEARNING SCHOOL          96.7   \n",
       "89   GREGORIO LUPERON HIGH SCHOOL FOR SCIENCE AND MATHEMATICS          99.8   \n",
       "125                       ACADEMY FOR LANGUAGE AND TECHNOLOGY          99.4   \n",
       "141                     INTERNATIONAL SCHOOL FOR LIBERAL ARTS          99.8   \n",
       "176          PAN AMERICAN INTERNATIONAL HIGH SCHOOL AT MONROE          99.8   \n",
       "253                                 MULTICULTURAL HIGH SCHOOL          99.8   \n",
       "286                    PAN AMERICAN INTERNATIONAL HIGH SCHOOL         100.0   \n",
       "\n",
       "     sat_score  \n",
       "44      1058.0  \n",
       "82      1174.0  \n",
       "89      1014.0  \n",
       "125      951.0  \n",
       "141      934.0  \n",
       "176      970.0  \n",
       "253      887.0  \n",
       "286      951.0  "
      ]
     },
     "execution_count": 26,
     "metadata": {},
     "output_type": "execute_result"
    }
   ],
   "source": [
    "#Creating a Table with schools where more than 95% of their students are Hispanic and their SAT scores \n",
    "school_names = combined[['SCHOOL NAME','hispanic_per','sat_score']]\n",
    "school_names[combined['hispanic_per']>95]"
   ]
  },
  {
   "cell_type": "markdown",
   "metadata": {},
   "source": [
    "The schools listed above appear to primarily be geared towards recent immigrants to the US. These schools have a lot of students who are learning English, which could explain the lower SAT scores."
   ]
  },
  {
   "cell_type": "code",
   "execution_count": 27,
   "metadata": {
    "collapsed": false,
    "jupyter": {
     "outputs_hidden": false
    }
   },
   "outputs": [
    {
     "data": {
      "text/html": [
       "<div>\n",
       "<style scoped>\n",
       "    .dataframe tbody tr th:only-of-type {\n",
       "        vertical-align: middle;\n",
       "    }\n",
       "\n",
       "    .dataframe tbody tr th {\n",
       "        vertical-align: top;\n",
       "    }\n",
       "\n",
       "    .dataframe thead th {\n",
       "        text-align: right;\n",
       "    }\n",
       "</style>\n",
       "<table border=\"1\" class=\"dataframe\">\n",
       "  <thead>\n",
       "    <tr style=\"text-align: right;\">\n",
       "      <th></th>\n",
       "      <th>SCHOOL NAME</th>\n",
       "      <th>hispanic_per</th>\n",
       "      <th>sat_score</th>\n",
       "    </tr>\n",
       "  </thead>\n",
       "  <tbody>\n",
       "    <tr>\n",
       "      <th>37</th>\n",
       "      <td>STUYVESANT HIGH SCHOOL</td>\n",
       "      <td>2.4</td>\n",
       "      <td>2096.0</td>\n",
       "    </tr>\n",
       "    <tr>\n",
       "      <th>151</th>\n",
       "      <td>BRONX HIGH SCHOOL OF SCIENCE</td>\n",
       "      <td>7.2</td>\n",
       "      <td>1969.0</td>\n",
       "    </tr>\n",
       "    <tr>\n",
       "      <th>187</th>\n",
       "      <td>BROOKLYN TECHNICAL HIGH SCHOOL</td>\n",
       "      <td>7.9</td>\n",
       "      <td>1833.0</td>\n",
       "    </tr>\n",
       "    <tr>\n",
       "      <th>327</th>\n",
       "      <td>QUEENS HIGH SCHOOL FOR THE SCIENCES AT YORK COLLEGE</td>\n",
       "      <td>7.9</td>\n",
       "      <td>1868.0</td>\n",
       "    </tr>\n",
       "    <tr>\n",
       "      <th>356</th>\n",
       "      <td>STATEN ISLAND TECHNICAL HIGH SCHOOL</td>\n",
       "      <td>5.3</td>\n",
       "      <td>1953.0</td>\n",
       "    </tr>\n",
       "  </tbody>\n",
       "</table>\n",
       "</div>"
      ],
      "text/plain": [
       "                                             SCHOOL NAME  hispanic_per  \\\n",
       "37                                STUYVESANT HIGH SCHOOL           2.4   \n",
       "151                         BRONX HIGH SCHOOL OF SCIENCE           7.2   \n",
       "187                       BROOKLYN TECHNICAL HIGH SCHOOL           7.9   \n",
       "327  QUEENS HIGH SCHOOL FOR THE SCIENCES AT YORK COLLEGE           7.9   \n",
       "356                  STATEN ISLAND TECHNICAL HIGH SCHOOL           5.3   \n",
       "\n",
       "     sat_score  \n",
       "37      2096.0  \n",
       "151     1969.0  \n",
       "187     1833.0  \n",
       "327     1868.0  \n",
       "356     1953.0  "
      ]
     },
     "execution_count": 27,
     "metadata": {},
     "output_type": "execute_result"
    }
   ],
   "source": [
    "#Creating a Table with schools where less than 95% of their students are Hispanic and their SAT scores \n",
    "schools_less10_hispanic = school_names[combined['hispanic_per']<10]\n",
    "schools_less10_hispanic[combined['sat_score']>1800]"
   ]
  },
  {
   "cell_type": "markdown",
   "metadata": {},
   "source": [
    "Many of the schools above appear to be specialized in science and technology . Aditionally, in order to be addmited an entrance exam is needed,so their  students  already have some experience with standardized tests. This might translate in higher  scores on the SAT."
   ]
  },
  {
   "cell_type": "markdown",
   "metadata": {},
   "source": [
    "# Gender and SAT Score"
   ]
  },
  {
   "cell_type": "code",
   "execution_count": 28,
   "metadata": {
    "collapsed": false,
    "jupyter": {
     "outputs_hidden": false
    }
   },
   "outputs": [
    {
     "name": "stdout",
     "output_type": "stream",
     "text": [
      "Gender and SAT Score Correlations\n",
      "male_per     -0.112062\n",
      "female_per    0.112108\n",
      "Name: sat_score, dtype: float64\n",
      "\n",
      "\n"
     ]
    },
    {
     "data": {
      "image/png": "[encoded data removed]",
      "text/plain": [
       "<Figure size 432x288 with 1 Axes>"
      ]
     },
     "metadata": {
      "needs_background": "light"
     },
     "output_type": "display_data"
    },
    {
     "data": {
      "image/png": "[encoded data removed]",
      "text/plain": [
       "<Figure size 432x288 with 1 Axes>"
      ]
     },
     "metadata": {
      "needs_background": "light"
     },
     "output_type": "display_data"
    }
   ],
   "source": [
    "# Graphing the relationship between Gender and SAT scores\n",
    "gender_columns = ['male_per','female_per']\n",
    "gender_correlations = correlations['sat_score'][gender_columns]\n",
    "print('Gender and SAT Score Correlations')\n",
    "print(gender_correlations)\n",
    "print('\\n')\n",
    "\n",
    "combined.plot.scatter(x='female_per',y='sat_score',title='Female Students % and SAT Scores')\n",
    "plt.show()\n",
    "\n",
    "combined.plot.scatter(x='male_per',y='sat_score',title='Male Students % and SAT Scores')\n",
    "plt.show()"
   ]
  },
  {
   "cell_type": "markdown",
   "metadata": {},
   "source": [
    "The majority of schools have an even distribution of male and female students, if one sex  predominates, the difference is around 10%.  These schools registered SAT scores between 1000 and 1400, but some of them registered SAT score outside this range, being 2100  the highest and 900 the lowest.\n",
    "Schools where 60% or more of their students are male , registered scores around 1000 and 1900 ; while schools where  60% or more of their students are female, registed SAT scores around 1100 and 1900. Schools where more than 90% of their students were female didn't register a high SAT scores."
   ]
  },
  {
   "cell_type": "code",
   "execution_count": 29,
   "metadata": {
    "collapsed": false,
    "jupyter": {
     "outputs_hidden": false
    }
   },
   "outputs": [
    {
     "data": {
      "text/html": [
       "<div>\n",
       "<style scoped>\n",
       "    .dataframe tbody tr th:only-of-type {\n",
       "        vertical-align: middle;\n",
       "    }\n",
       "\n",
       "    .dataframe tbody tr th {\n",
       "        vertical-align: top;\n",
       "    }\n",
       "\n",
       "    .dataframe thead th {\n",
       "        text-align: right;\n",
       "    }\n",
       "</style>\n",
       "<table border=\"1\" class=\"dataframe\">\n",
       "  <thead>\n",
       "    <tr style=\"text-align: right;\">\n",
       "      <th></th>\n",
       "      <th>SCHOOL NAME</th>\n",
       "      <th>female_per</th>\n",
       "      <th>sat_score</th>\n",
       "    </tr>\n",
       "  </thead>\n",
       "  <tbody>\n",
       "    <tr>\n",
       "      <th>5</th>\n",
       "      <td>BARD HIGH SCHOOL EARLY COLLEGE</td>\n",
       "      <td>68.7</td>\n",
       "      <td>1856.0</td>\n",
       "    </tr>\n",
       "    <tr>\n",
       "      <th>26</th>\n",
       "      <td>ELEANOR ROOSEVELT HIGH SCHOOL</td>\n",
       "      <td>67.5</td>\n",
       "      <td>1758.0</td>\n",
       "    </tr>\n",
       "    <tr>\n",
       "      <th>60</th>\n",
       "      <td>BEACON HIGH SCHOOL</td>\n",
       "      <td>61.0</td>\n",
       "      <td>1744.0</td>\n",
       "    </tr>\n",
       "    <tr>\n",
       "      <th>61</th>\n",
       "      <td>FIORELLO H. LAGUARDIA HIGH SCHOOL OF MUSIC &amp; ART AND PERFORMING ARTS</td>\n",
       "      <td>73.6</td>\n",
       "      <td>1707.0</td>\n",
       "    </tr>\n",
       "    <tr>\n",
       "      <th>302</th>\n",
       "      <td>TOWNSEND HARRIS HIGH SCHOOL</td>\n",
       "      <td>71.1</td>\n",
       "      <td>1910.0</td>\n",
       "    </tr>\n",
       "  </tbody>\n",
       "</table>\n",
       "</div>"
      ],
      "text/plain": [
       "                                                              SCHOOL NAME  \\\n",
       "5                                          BARD HIGH SCHOOL EARLY COLLEGE   \n",
       "26                                          ELEANOR ROOSEVELT HIGH SCHOOL   \n",
       "60                                                     BEACON HIGH SCHOOL   \n",
       "61   FIORELLO H. LAGUARDIA HIGH SCHOOL OF MUSIC & ART AND PERFORMING ARTS   \n",
       "302                                           TOWNSEND HARRIS HIGH SCHOOL   \n",
       "\n",
       "     female_per  sat_score  \n",
       "5          68.7     1856.0  \n",
       "26         67.5     1758.0  \n",
       "60         61.0     1744.0  \n",
       "61         73.6     1707.0  \n",
       "302        71.1     1910.0  "
      ]
     },
     "execution_count": 29,
     "metadata": {},
     "output_type": "execute_result"
    }
   ],
   "source": [
    "#Research any schools with a female_per greater than 60% and an average SAT score greater than 1700.\n",
    "names = combined[['SCHOOL NAME','female_per','sat_score']]\n",
    "names[names['female_per']>60][names['sat_score']>1700]"
   ]
  },
  {
   "cell_type": "markdown",
   "metadata": {},
   "source": [
    "These schools appears to be very selective liberal arts schools that have high academic standards."
   ]
  },
  {
   "cell_type": "markdown",
   "metadata": {},
   "source": [
    "# AP Exam Scores vs SAT Scores"
   ]
  },
  {
   "cell_type": "code",
   "execution_count": 30,
   "metadata": {
    "collapsed": false,
    "jupyter": {
     "outputs_hidden": false
    }
   },
   "outputs": [
    {
     "name": "stdout",
     "output_type": "stream",
     "text": [
      "Correlations of Percentage of AP test takers and Advance Regents with SAT score\n",
      "ap_per                            0.057171\n",
      "Advanced Regents - % of cohort    0.771566\n",
      "Name: sat_score, dtype: float64\n",
      "\n",
      "\n"
     ]
    },
    {
     "data": {
      "image/png": "[encoded data removed]",
      "text/plain": [
       "<Figure size 432x288 with 1 Axes>"
      ]
     },
     "metadata": {
      "needs_background": "light"
     },
     "output_type": "display_data"
    },
    {
     "data": {
      "image/png": "[encoded data removed]",
      "text/plain": [
       "<Figure size 432x288 with 1 Axes>"
      ]
     },
     "metadata": {
      "needs_background": "light"
     },
     "output_type": "display_data"
    }
   ],
   "source": [
    "combined[\"ap_per\"] = combined[\"AP Test Takers \"] / combined[\"total_enrollment\"]\n",
    "test_columns = ['ap_per','Advanced Regents - % of cohort']\n",
    "combined.plot.scatter(x='ap_per', y='sat_score')\n",
    "combined.plot.scatter(x='Advanced Regents - % of cohort', y='sat_score')\n",
    "SAT_AP = combined[['ap_per','Advanced Regents - % of cohort','sat_score']]\n",
    "SAT_AP_corr = SAT_AP.corr()\n",
    "\n",
    "SAT_AP_corr = SAT_AP_corr['sat_score'][test_columns]\n",
    "SAT_AP_corr\n",
    "print('Correlations of Percentage of AP test takers and Advance Regents with SAT score')\n",
    "print(SAT_AP_corr)\n",
    "print('\\n')"
   ]
  },
  {
   "cell_type": "markdown",
   "metadata": {},
   "source": [
    "The percentage of students who took advanced placement tests and the SAT have a very weak correlation . However, there is a strong correlation between the students who performed well on the AP test and the SAT score."
   ]
  },
  {
   "cell_type": "markdown",
   "metadata": {},
   "source": [
    "# Ranking schools based on their SAT score"
   ]
  },
  {
   "cell_type": "markdown",
   "metadata": {},
   "source": [
    "*As a reminder:*\n",
    "- More than 1400+ is an excellent score ,\n",
    "- Between 1400 and 1300 a very good score,\n",
    "- Between 1300 and 1200 a good score,\n",
    "- Between 1200 and 1000 enough ,\n",
    "- Less than 1000 is considered a bad score ."
   ]
  },
  {
   "cell_type": "code",
   "execution_count": 31,
   "metadata": {},
   "outputs": [
    {
     "name": "stdout",
     "output_type": "stream",
     "text": [
      "Enough       178\n",
      "Good         100\n",
      "Excellent     42\n",
      "Very Good     31\n",
      "Bad           12\n",
      "Name: S_Clasification, dtype: int64\n"
     ]
    },
    {
     "data": {
      "text/plain": [
       "<AxesSubplot:ylabel='S_Clasification'>"
      ]
     },
     "execution_count": 31,
     "metadata": {},
     "output_type": "execute_result"
    },
    {
     "data": {
      "image/png": "[encoded data removed]",
      "text/plain": [
       "<Figure size 432x288 with 1 Axes>"
      ]
     },
     "metadata": {},
     "output_type": "display_data"
    }
   ],
   "source": [
    "# creating a function categorize schools according to their sat score:\n",
    "\n",
    "def SAT_categorizer(score):\n",
    "    if score >= 1400:\n",
    "        return 'Excellent'\n",
    "    elif score < 1400 and score >= 1300:\n",
    "        return 'Very Good'\n",
    "    elif score < 1300 and score >= 1200:\n",
    "        return 'Good'\n",
    "    elif score < 1200 and score >= 1000:\n",
    "        return 'Enough'\n",
    "    else:\n",
    "        return 'Bad'\n",
    "\n",
    "combined['S_Clasification'] = combined['sat_score'].apply(SAT_categorizer)\n",
    "print(combined['S_Clasification'].value_counts())\n",
    "combined['S_Clasification'].value_counts().plot.pie()"
   ]
  },
  {
   "cell_type": "code",
   "execution_count": 32,
   "metadata": {},
   "outputs": [
    {
     "name": "stdout",
     "output_type": "stream",
     "text": [
      "AxesSubplot(0.125,0.125;0.775x0.755)\n"
     ]
    },
    {
     "data": {
      "text/html": [
       "<div>\n",
       "<style scoped>\n",
       "    .dataframe tbody tr th:only-of-type {\n",
       "        vertical-align: middle;\n",
       "    }\n",
       "\n",
       "    .dataframe tbody tr th {\n",
       "        vertical-align: top;\n",
       "    }\n",
       "\n",
       "    .dataframe thead th {\n",
       "        text-align: right;\n",
       "    }\n",
       "</style>\n",
       "<table border=\"1\" class=\"dataframe\">\n",
       "  <thead>\n",
       "    <tr style=\"text-align: right;\">\n",
       "      <th></th>\n",
       "      <th>male_per</th>\n",
       "      <th>female_per</th>\n",
       "      <th>saf_s_11</th>\n",
       "      <th>aca_s_11</th>\n",
       "      <th>white_per</th>\n",
       "      <th>asian_per</th>\n",
       "      <th>black_per</th>\n",
       "      <th>hispanic_per</th>\n",
       "      <th>ap_per</th>\n",
       "      <th>Advanced Regents - % of cohort</th>\n",
       "      <th>sat_score</th>\n",
       "    </tr>\n",
       "    <tr>\n",
       "      <th>S_Clasification</th>\n",
       "      <th></th>\n",
       "      <th></th>\n",
       "      <th></th>\n",
       "      <th></th>\n",
       "      <th></th>\n",
       "      <th></th>\n",
       "      <th></th>\n",
       "      <th></th>\n",
       "      <th></th>\n",
       "      <th></th>\n",
       "      <th></th>\n",
       "    </tr>\n",
       "  </thead>\n",
       "  <tbody>\n",
       "    <tr>\n",
       "      <th>Excellent</th>\n",
       "      <td>44.614286</td>\n",
       "      <td>55.385714</td>\n",
       "      <td>7.309802</td>\n",
       "      <td>7.797176</td>\n",
       "      <td>31.490476</td>\n",
       "      <td>31.004762</td>\n",
       "      <td>15.797619</td>\n",
       "      <td>20.585714</td>\n",
       "      <td>0.233600</td>\n",
       "      <td>48.981866</td>\n",
       "      <td>1610.238095</td>\n",
       "    </tr>\n",
       "    <tr>\n",
       "      <th>Very Good</th>\n",
       "      <td>47.003226</td>\n",
       "      <td>52.996774</td>\n",
       "      <td>6.819355</td>\n",
       "      <td>7.529032</td>\n",
       "      <td>14.461290</td>\n",
       "      <td>14.925806</td>\n",
       "      <td>31.567742</td>\n",
       "      <td>38.306452</td>\n",
       "      <td>0.134591</td>\n",
       "      <td>21.363146</td>\n",
       "      <td>1343.516129</td>\n",
       "    </tr>\n",
       "    <tr>\n",
       "      <th>Good</th>\n",
       "      <td>48.470000</td>\n",
       "      <td>51.530000</td>\n",
       "      <td>6.542117</td>\n",
       "      <td>7.319814</td>\n",
       "      <td>7.955000</td>\n",
       "      <td>10.561000</td>\n",
       "      <td>33.398000</td>\n",
       "      <td>47.255000</td>\n",
       "      <td>0.232184</td>\n",
       "      <td>13.432712</td>\n",
       "      <td>1236.572866</td>\n",
       "    </tr>\n",
       "    <tr>\n",
       "      <th>Enough</th>\n",
       "      <td>51.374719</td>\n",
       "      <td>48.623596</td>\n",
       "      <td>6.409616</td>\n",
       "      <td>7.274053</td>\n",
       "      <td>2.590449</td>\n",
       "      <td>4.356180</td>\n",
       "      <td>45.464607</td>\n",
       "      <td>46.888202</td>\n",
       "      <td>0.203416</td>\n",
       "      <td>6.216738</td>\n",
       "      <td>1122.533708</td>\n",
       "    </tr>\n",
       "    <tr>\n",
       "      <th>Bad</th>\n",
       "      <td>50.150000</td>\n",
       "      <td>49.850000</td>\n",
       "      <td>7.208333</td>\n",
       "      <td>7.650000</td>\n",
       "      <td>2.716667</td>\n",
       "      <td>7.325000</td>\n",
       "      <td>16.850000</td>\n",
       "      <td>72.758333</td>\n",
       "      <td>0.250222</td>\n",
       "      <td>8.426256</td>\n",
       "      <td>946.750000</td>\n",
       "    </tr>\n",
       "  </tbody>\n",
       "</table>\n",
       "</div>"
      ],
      "text/plain": [
       "                  male_per  female_per  saf_s_11  aca_s_11  white_per  \\\n",
       "S_Clasification                                                         \n",
       "Excellent        44.614286   55.385714  7.309802  7.797176  31.490476   \n",
       "Very Good        47.003226   52.996774  6.819355  7.529032  14.461290   \n",
       "Good             48.470000   51.530000  6.542117  7.319814   7.955000   \n",
       "Enough           51.374719   48.623596  6.409616  7.274053   2.590449   \n",
       "Bad              50.150000   49.850000  7.208333  7.650000   2.716667   \n",
       "\n",
       "                 asian_per  black_per  hispanic_per    ap_per  \\\n",
       "S_Clasification                                                 \n",
       "Excellent        31.004762  15.797619     20.585714  0.233600   \n",
       "Very Good        14.925806  31.567742     38.306452  0.134591   \n",
       "Good             10.561000  33.398000     47.255000  0.232184   \n",
       "Enough            4.356180  45.464607     46.888202  0.203416   \n",
       "Bad               7.325000  16.850000     72.758333  0.250222   \n",
       "\n",
       "                 Advanced Regents - % of cohort    sat_score  \n",
       "S_Clasification                                               \n",
       "Excellent                             48.981866  1610.238095  \n",
       "Very Good                             21.363146  1343.516129  \n",
       "Good                                  13.432712  1236.572866  \n",
       "Enough                                 6.216738  1122.533708  \n",
       "Bad                                    8.426256   946.750000  "
      ]
     },
     "execution_count": 32,
     "metadata": {},
     "output_type": "execute_result"
    },
    {
     "data": {
      "image/png": "[encoded data removed]",
      "text/plain": [
       "<Figure size 432x288 with 1 Axes>"
      ]
     },
     "metadata": {
      "needs_background": "light"
     },
     "output_type": "display_data"
    }
   ],
   "source": [
    "survey_columns = ['saf_s_11','aca_s_11']\n",
    "exam_columns = ['ap_per','Advanced Regents - % of cohort']\n",
    "columns_of_interest = gender_columns + survey_columns + race_columns + exam_columns + ['sat_score']\n",
    "print(combined['sat_score'].plot.hist())\n",
    "combined.groupby('S_Clasification').agg(numpy.mean)[columns_of_interest].sort_values('sat_score',ascending= False)"
   ]
  },
  {
   "cell_type": "markdown",
   "metadata": {},
   "source": [
    "Regarding the analysis of variables of interest for the classifications of highschools according to their SAT score:\n",
    "\n",
    "- highschools have an equal number of students according to their sex;\n",
    "- the average score for the perception of safety and respect according to the students is around 7 points;\n",
    "- academic expectations for all high schools is 7;\n",
    "- high schools with excellent scores do have predominantly white and asian students;\n",
    "- high scoring highschools have mostly black and Hispanic students;\n",
    "- on average 70% of the students of highschools that perfomed badly are hispanic;\n",
    "- the SAT score data is skewed to the right"
   ]
  },
  {
   "cell_type": "markdown",
   "metadata": {},
   "source": [
    "# Conclusion"
   ]
  },
  {
   "cell_type": "markdown",
   "metadata": {
    "jupyter": {
     "outputs_hidden": true
    }
   },
   "source": [
    "Seeking to answer the question of whether the SAT is a discriminatory test, I  just carried out an analysis of  the relationship between different variables and  the SAT score. Variables that showed a significant correlation were the perception of how safe and  respectful the high school is, students academic expectations, race, gender, and the AP examn. I used data from New York City high schools because of its demographic diversity.\n",
    "\n",
    "The differences in outcome for the sexes is minimum and high schools were evenly distributed. On the other hand, this is not the case for races, Asians and White seem to perform a lot better than Blacks and Hispanics, but when taking a closer look to the data, I noticed the data is skewed to the right because a lot of high schools with a higher percentage of Asians or white students had an excellent score. Additionally,is important to highlight these high schools have more rigorous acceptance processes. Nevertheless, is also worth noticing that high schools that performed very good, 70% of their students are black or Hispanic. In my opinion, there is not a causal relationship between race and SAT score, the differences in SAT scores between different races is not due to the race, but rather because of cultural differences and barriers such as learning a new language. \n",
    "\n",
    "Additionally, how safe and respectful is a high school environment seem to have a positive impact on sat scores, but there are diminishing returns, schools should only be safe “enough.” When it comes to academic expectations the highest scoring group also have the highest SAT score.On the other hand, variables that initially seem to be important, such as the number of AP exam taken, showed no significant correlation when presented in relative terms with respect to the total number of students, while schools with higher percentage of students that registered high score on the AP exam also performed well on the SAT.\n",
    "\n",
    "Author: Hector R. Santos Marte"
   ]
  }
 ],
 "metadata": {
  "kernelspec": {
   "display_name": "Python 3",
   "language": "python",
   "name": "python3"
  },
  "language_info": {
   "codemirror_mode": {
    "name": "ipython",
    "version": 3
   },
   "file_extension": ".py",
   "mimetype": "text/x-python",
   "name": "python",
   "nbconvert_exporter": "python",
   "pygments_lexer": "ipython3",
   "version": "3.7.1"
  },
  "varInspector": {
   "cols": {
    "lenName": 16,
    "lenType": 16,
    "lenVar": 40
   },
   "kernels_config": {
    "python": {
     "delete_cmd_postfix": "",
     "delete_cmd_prefix": "del ",
     "library": "var_list.py",
     "varRefreshCmd": "print(var_dic_list())"
    },
    "r": {
     "delete_cmd_postfix": ") ",
     "delete_cmd_prefix": "rm(",
     "library": "var_list.r",
     "varRefreshCmd": "cat(var_dic_list()) "
    }
   },
   "position": {
    "height": "707.208px",
    "left": "1544.67px",
    "right": "20px",
    "top": "636px",
    "width": "350px"
   },
   "types_to_exclude": [
    "module",
    "function",
    "builtin_function_or_method",
    "instance",
    "_Feature"
   ],
   "window_display": true
  }
 },
 "nbformat": 4,
 "nbformat_minor": 4
}
